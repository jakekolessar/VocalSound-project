{
 "cells": [
  {
   "cell_type": "markdown",
   "id": "39926625-2549-44b9-9e05-9e4ed6102bb2",
   "metadata": {},
   "source": [
    "## Setup"
   ]
  },
  {
   "cell_type": "code",
   "execution_count": 1,
   "id": "5b3108b0-1607-4143-b08e-53fb34cbb435",
   "metadata": {},
   "outputs": [],
   "source": [
    "import os\n",
    "import csv\n",
    "import json\n",
    "import pathlib\n",
    "\n",
    "import matplotlib.pyplot as plt\n",
    "import numpy as np\n",
    "import seaborn as sns\n",
    "import tensorflow as tf\n",
    "import tensorflow_ranking as tfr\n",
    "\n",
    "from tensorflow.keras import layers\n",
    "from tensorflow.keras import models\n",
    "from IPython import display"
   ]
  },
  {
   "cell_type": "code",
   "execution_count": 2,
   "id": "044a49ef-e5af-4671-a7e0-0d85df252c49",
   "metadata": {},
   "outputs": [],
   "source": [
    "import glob\n",
    "import librosa"
   ]
  },
  {
   "cell_type": "code",
   "execution_count": 3,
   "id": "fb2132f7-a41c-42b5-877c-08f9066a745e",
   "metadata": {},
   "outputs": [],
   "source": [
    "import tensorflow_io as tfio"
   ]
  },
  {
   "cell_type": "code",
   "execution_count": 4,
   "id": "4bea0d3b-2b1b-4dd8-8c8b-d43f1a062882",
   "metadata": {},
   "outputs": [
    {
     "name": "stdout",
     "output_type": "stream",
     "text": [
      "WARNING:tensorflow:From /tmp/ipykernel_608052/337460670.py:1: is_gpu_available (from tensorflow.python.framework.test_util) is deprecated and will be removed in a future version.\n",
      "Instructions for updating:\n",
      "Use `tf.config.list_physical_devices('GPU')` instead.\n"
     ]
    },
    {
     "name": "stderr",
     "output_type": "stream",
     "text": [
      "2022-08-07 14:22:54.176577: I tensorflow/core/platform/cpu_feature_guard.cc:193] This TensorFlow binary is optimized with oneAPI Deep Neural Network Library (oneDNN) to use the following CPU instructions in performance-critical operations:  AVX2 FMA\n",
      "To enable them in other operations, rebuild TensorFlow with the appropriate compiler flags.\n",
      "2022-08-07 14:22:54.212906: I tensorflow/stream_executor/cuda/cuda_gpu_executor.cc:975] successful NUMA node read from SysFS had negative value (-1), but there must be at least one NUMA node, so returning NUMA node zero\n",
      "2022-08-07 14:22:54.216511: I tensorflow/stream_executor/cuda/cuda_gpu_executor.cc:975] successful NUMA node read from SysFS had negative value (-1), but there must be at least one NUMA node, so returning NUMA node zero\n",
      "2022-08-07 14:22:54.216898: I tensorflow/stream_executor/cuda/cuda_gpu_executor.cc:975] successful NUMA node read from SysFS had negative value (-1), but there must be at least one NUMA node, so returning NUMA node zero\n",
      "2022-08-07 14:22:54.537324: I tensorflow/stream_executor/cuda/cuda_gpu_executor.cc:975] successful NUMA node read from SysFS had negative value (-1), but there must be at least one NUMA node, so returning NUMA node zero\n",
      "2022-08-07 14:22:54.537661: I tensorflow/stream_executor/cuda/cuda_gpu_executor.cc:975] successful NUMA node read from SysFS had negative value (-1), but there must be at least one NUMA node, so returning NUMA node zero\n",
      "2022-08-07 14:22:54.537981: I tensorflow/stream_executor/cuda/cuda_gpu_executor.cc:975] successful NUMA node read from SysFS had negative value (-1), but there must be at least one NUMA node, so returning NUMA node zero\n",
      "2022-08-07 14:22:54.538259: I tensorflow/core/common_runtime/gpu/gpu_device.cc:1532] Created device /device:GPU:0 with 9632 MB memory:  -> device: 0, name: NVIDIA GeForce RTX 3080 Ti, pci bus id: 0000:08:00.0, compute capability: 8.6\n"
     ]
    },
    {
     "data": {
      "text/plain": [
       "True"
      ]
     },
     "execution_count": 4,
     "metadata": {},
     "output_type": "execute_result"
    }
   ],
   "source": [
    "tf.test.is_gpu_available()"
   ]
  },
  {
   "cell_type": "markdown",
   "id": "b19adb3d-2a4c-40ef-9f2a-7be36500674a",
   "metadata": {},
   "source": [
    "config = tf.ConfigProto()\n",
    "config.gpu_options.allow_growth = True\n",
    "config.gpu_options.per_process_gpu_memory_fraction = 0.5\n",
    "session = tf.Session(config=config)"
   ]
  },
  {
   "cell_type": "code",
   "execution_count": 5,
   "id": "86d7e269-a08b-447e-af4d-59496298b379",
   "metadata": {},
   "outputs": [],
   "source": [
    "data_dir_path = pathlib.Path('/home/jake/project/split')"
   ]
  },
  {
   "cell_type": "code",
   "execution_count": 6,
   "id": "93dab704-ace5-4431-8241-cd4c833c7676",
   "metadata": {},
   "outputs": [],
   "source": [
    "aug = False"
   ]
  },
  {
   "cell_type": "markdown",
   "id": "bd63bb64-2e5a-48ba-be26-e9a1bcb9dfb5",
   "metadata": {},
   "source": [
    "## Load Data"
   ]
  },
  {
   "cell_type": "code",
   "execution_count": 7,
   "id": "6324c12f-7ee8-4178-b1a7-6a1dcb993ea7",
   "metadata": {},
   "outputs": [
    {
     "name": "stderr",
     "output_type": "stream",
     "text": [
      "2022-08-07 14:22:54.576602: I tensorflow/stream_executor/cuda/cuda_gpu_executor.cc:975] successful NUMA node read from SysFS had negative value (-1), but there must be at least one NUMA node, so returning NUMA node zero\n",
      "2022-08-07 14:22:54.577065: I tensorflow/stream_executor/cuda/cuda_gpu_executor.cc:975] successful NUMA node read from SysFS had negative value (-1), but there must be at least one NUMA node, so returning NUMA node zero\n",
      "2022-08-07 14:22:54.577439: I tensorflow/stream_executor/cuda/cuda_gpu_executor.cc:975] successful NUMA node read from SysFS had negative value (-1), but there must be at least one NUMA node, so returning NUMA node zero\n",
      "2022-08-07 14:22:54.578255: I tensorflow/stream_executor/cuda/cuda_gpu_executor.cc:975] successful NUMA node read from SysFS had negative value (-1), but there must be at least one NUMA node, so returning NUMA node zero\n",
      "2022-08-07 14:22:54.578747: I tensorflow/stream_executor/cuda/cuda_gpu_executor.cc:975] successful NUMA node read from SysFS had negative value (-1), but there must be at least one NUMA node, so returning NUMA node zero\n",
      "2022-08-07 14:22:54.579211: I tensorflow/stream_executor/cuda/cuda_gpu_executor.cc:975] successful NUMA node read from SysFS had negative value (-1), but there must be at least one NUMA node, so returning NUMA node zero\n",
      "2022-08-07 14:22:54.579724: I tensorflow/stream_executor/cuda/cuda_gpu_executor.cc:975] successful NUMA node read from SysFS had negative value (-1), but there must be at least one NUMA node, so returning NUMA node zero\n",
      "2022-08-07 14:22:54.580195: I tensorflow/stream_executor/cuda/cuda_gpu_executor.cc:975] successful NUMA node read from SysFS had negative value (-1), but there must be at least one NUMA node, so returning NUMA node zero\n",
      "2022-08-07 14:22:54.580612: I tensorflow/core/common_runtime/gpu/gpu_device.cc:1532] Created device /job:localhost/replica:0/task:0/device:GPU:0 with 9632 MB memory:  -> device: 0, name: NVIDIA GeForce RTX 3080 Ti, pci bus id: 0000:08:00.0, compute capability: 8.6\n"
     ]
    }
   ],
   "source": [
    "train_ds = tf.data.Dataset.list_files('/home/jake/project/split/train/*/*', shuffle=True)\n",
    "test_ds = tf.data.Dataset.list_files('/home/jake/project/split/test/*/*', shuffle=True)\n",
    "val_ds = tf.data.Dataset.list_files('/home/jake/project/split/val/*/*', shuffle=True)"
   ]
  },
  {
   "cell_type": "code",
   "execution_count": 8,
   "id": "e4b6f1e1-1caf-4e1d-a49c-687052e2105f",
   "metadata": {},
   "outputs": [],
   "source": [
    "train_path = pathlib.Path('/home/jake/project/split/train/')"
   ]
  },
  {
   "cell_type": "code",
   "execution_count": 9,
   "id": "84f180d9-7b29-429f-bd9a-2340a9312de7",
   "metadata": {},
   "outputs": [
    {
     "name": "stdout",
     "output_type": "stream",
     "text": [
      "['cough' 'laughter' 'sigh' 'sneeze' 'sniff' 'throatclearing']\n"
     ]
    }
   ],
   "source": [
    "class_names = np.array(sorted([item.name for item in train_path.glob('*') if item.name != \"LICENSE.txt\"]))\n",
    "print(class_names)"
   ]
  },
  {
   "cell_type": "markdown",
   "id": "ddbf7c60-557b-4504-96b7-59b3def82339",
   "metadata": {},
   "source": [
    "## Define Data Pipeline Functions"
   ]
  },
  {
   "cell_type": "code",
   "execution_count": 10,
   "id": "d2337ebe-3456-4a13-867e-1a74338962b4",
   "metadata": {},
   "outputs": [],
   "source": [
    "def get_label(file_path):\n",
    "  # Convert the path to a list of path components\n",
    "  parts = tf.strings.split(file_path, os.path.sep)\n",
    "  # The second to last is the class-directory\n",
    "  one_hot = parts[-2] == class_names\n",
    "  # Integer encode the label\n",
    "  return tf.argmax(one_hot)"
   ]
  },
  {
   "cell_type": "code",
   "execution_count": 11,
   "id": "2b14bd08-23d0-443b-99e3-2e066a8ddfc6",
   "metadata": {},
   "outputs": [],
   "source": [
    "def load_wav_16k_mono(filename):\n",
    "    # Load encoded wav file\n",
    "    file_contents = tf.io.read_file(filename)\n",
    "    # Decode wav (tensors by channels) \n",
    "    wav, sample_rate = tf.audio.decode_wav(file_contents, desired_channels=1)\n",
    "    # Removes trailing axis\n",
    "    wav = tf.squeeze(wav, axis=-1)\n",
    "    sample_rate = tf.cast(sample_rate, dtype=tf.int64)\n",
    "    # Goes from 44100Hz to 16000hz - amplitude of the audio signal\n",
    "    wav = tfio.audio.resample(wav, rate_in=sample_rate, rate_out=16000)\n",
    "    return wav"
   ]
  },
  {
   "cell_type": "code",
   "execution_count": 12,
   "id": "a399e3a1-fce6-4752-9228-911e061474a3",
   "metadata": {},
   "outputs": [],
   "source": [
    "def preprocess(file_path):\n",
    "    label = get_label(file_path)\n",
    "    wav = load_wav_16k_mono(file_path)\n",
    "    #wav = wav[:67000]\n",
    "    #zero_padding = tf.zeros([67000] - tf.shape(wav), dtype=tf.float32)\n",
    "    wav = wav[:80000]\n",
    "    zero_padding = tf.zeros([80000] - tf.shape(wav), dtype=tf.float32)\n",
    "    wav = tf.concat([zero_padding, wav],0)\n",
    "    stfts = tf.signal.stft(wav, frame_length=1024 , frame_step=256)\n",
    "    spectrograms = tf.abs(stfts)\n",
    "    num_spectrogram_bins = 513\n",
    "    lower_edge_hertz, upper_edge_hertz, num_mel_bins = 80.0, 8000, 128\n",
    "    linear_to_mel_weight_matrix = tf.signal.linear_to_mel_weight_matrix(\n",
    "        num_mel_bins, num_spectrogram_bins, 16000, lower_edge_hertz, upper_edge_hertz)\n",
    "    mel_spectrograms = tf.tensordot(spectrograms, linear_to_mel_weight_matrix, 1)\n",
    "    mel_spectrograms.set_shape(spectrograms.shape[:-1].concatenate(\n",
    "        linear_to_mel_weight_matrix.shape[-1:]))\n",
    "    #mel_spectrograms.set_shape((256,256))\n",
    "    log_mel_spec = tf.math.log(mel_spectrograms + 1e-6)\n",
    "    #spectrogram = tf.expand_dims(spectrogram, axis=2)\n",
    "    log_mel_spectrogram = tf.expand_dims(log_mel_spec, axis=2)\n",
    "    return log_mel_spectrogram, label"
   ]
  },
  {
   "cell_type": "markdown",
   "id": "db75ee1e-f85f-4d40-ae9d-27c8c60eb0de",
   "metadata": {},
   "source": [
    "### Test Data Pipeline"
   ]
  },
  {
   "cell_type": "code",
   "execution_count": 13,
   "id": "9d3d8a88-bfe4-4b86-8e3f-c618d154d6aa",
   "metadata": {},
   "outputs": [
    {
     "name": "stdout",
     "output_type": "stream",
     "text": [
      "b'/home/jake/project/split/train/sniff/m2144_0_sniff.wav'\n"
     ]
    }
   ],
   "source": [
    "for x in train_ds.take(1):\n",
    "    print(x.numpy())"
   ]
  },
  {
   "cell_type": "code",
   "execution_count": 14,
   "id": "6dfded1b-e54a-4b63-b089-690a11566e37",
   "metadata": {},
   "outputs": [],
   "source": [
    "test_path = '/home/jake/project/split/train/sigh/m0577_0_sigh.wav'"
   ]
  },
  {
   "cell_type": "code",
   "execution_count": 15,
   "id": "b4f82b8e-5db7-465f-a689-c7f6ff6e73ec",
   "metadata": {},
   "outputs": [],
   "source": [
    "test_path = '/home/jake/project/split/train/sneeze/f3344_0_sneeze.wav'"
   ]
  },
  {
   "cell_type": "code",
   "execution_count": 16,
   "id": "82d628e8-568f-4e60-9e07-03dfba892e49",
   "metadata": {},
   "outputs": [],
   "source": [
    "test_path = '/home/jake/project/split/train/throatclearing/m1663_0_throatclearing.wav'"
   ]
  },
  {
   "cell_type": "code",
   "execution_count": 17,
   "id": "ebb29dd9-8d5a-4a40-a58f-50d8d14153db",
   "metadata": {},
   "outputs": [],
   "source": [
    "test_path = '/home/jake/project/split/train/laughter/m1231_0_laughter.wav'"
   ]
  },
  {
   "cell_type": "code",
   "execution_count": 18,
   "id": "8a18bd9c-abe2-49d2-adf4-449da6658203",
   "metadata": {},
   "outputs": [
    {
     "name": "stderr",
     "output_type": "stream",
     "text": [
      "2022-08-07 14:22:54.864936: I tensorflow_io/core/kernels/cpu_check.cc:128] Your CPU supports instructions that this TensorFlow IO binary was not compiled to use: AVX2 FMA\n",
      "2022-08-07 14:22:55.438765: I tensorflow/stream_executor/cuda/cuda_blas.cc:1786] TensorFloat-32 will be used for the matrix multiplication. This will only be logged once.\n"
     ]
    }
   ],
   "source": [
    "spectrogram, label = preprocess(test_path)"
   ]
  },
  {
   "cell_type": "code",
   "execution_count": 19,
   "id": "44e81b26-d580-474c-97b5-53b18a015747",
   "metadata": {},
   "outputs": [
    {
     "data": {
      "image/png": "[encoded data removed]",
      "text/plain": [
       "<Figure size 2160x1440 with 1 Axes>"
      ]
     },
     "metadata": {
      "needs_background": "light"
     },
     "output_type": "display_data"
    }
   ],
   "source": [
    "plt.figure(figsize=(30,20))\n",
    "plt.imshow(tf.transpose(spectrogram)[0])\n",
    "plt.show()"
   ]
  },
  {
   "cell_type": "markdown",
   "id": "6feec6bb-37e7-45d7-910d-eb24c05d70ef",
   "metadata": {},
   "source": [
    "### Look at lengths of our spectrograms\n",
    "#### We will use this to adjust zero paddding"
   ]
  },
  {
   "cell_type": "code",
   "execution_count": 20,
   "id": "9411c9fc-337b-4f8b-b82d-d80f2ffa9ee3",
   "metadata": {
    "tags": []
   },
   "outputs": [],
   "source": [
    "look_at_lengths = False\n",
    "if look_at_lengths == True:\n",
    "    files = glob.glob('/home/jake/project/split/*/*/*')\n",
    "    lengths = []\n",
    "    for file in files:\n",
    "        tensor_wave = load_wav_16k_mono(os.path.join('data', 'Parsed_Capuchinbird_Clips', file))\n",
    "        lengths.append(len(tensor_wave))\n",
    "    print(tf.math.reduce_mean(lengths))\n",
    "    print(tf.math.reduce_min(lengths))\n",
    "    print(tf.math.reduce_max(lengths))"
   ]
  },
  {
   "cell_type": "markdown",
   "id": "0ef59fe3-620c-497b-87c2-74a08d446957",
   "metadata": {},
   "source": [
    "### Process Dataset"
   ]
  },
  {
   "cell_type": "code",
   "execution_count": 21,
   "id": "7b87b839-553f-40ed-bd8a-3ca08d7cc2f0",
   "metadata": {},
   "outputs": [],
   "source": [
    "def configure_ds(dataset):\n",
    "    dataset = dataset.map(preprocess)\n",
    "    #dataset = dataset.cache()\n",
    "    dataset = dataset.shuffle(buffer_size=1000)\n",
    "    dataset = dataset.batch(32)\n",
    "    #dataset = dataset.prefetch(4)\n",
    "    return dataset"
   ]
  },
  {
   "cell_type": "code",
   "execution_count": 22,
   "id": "de8de6ca-8156-4e04-8c5c-7b0e7637ab69",
   "metadata": {
    "tags": []
   },
   "outputs": [
    {
     "name": "stdout",
     "output_type": "stream",
     "text": [
      "WARNING:tensorflow:Using a while_loop for converting IO>AudioResample\n",
      "WARNING:tensorflow:Using a while_loop for converting IO>AudioResample\n",
      "WARNING:tensorflow:Using a while_loop for converting IO>AudioResample\n"
     ]
    }
   ],
   "source": [
    "train_ds = configure_ds(train_ds)\n",
    "test_ds = configure_ds(test_ds)\n",
    "val_ds = configure_ds(val_ds)"
   ]
  },
  {
   "cell_type": "markdown",
   "id": "61f92aeb-6a1f-4137-914e-caf8bfce1561",
   "metadata": {},
   "source": [
    "#### Look at shape of data in batch"
   ]
  },
  {
   "cell_type": "code",
   "execution_count": 23,
   "id": "c0d28100-c5c2-4cef-acfb-d89cd3b8668a",
   "metadata": {},
   "outputs": [],
   "source": [
    "samples, labels = train_ds.as_numpy_iterator().next()"
   ]
  },
  {
   "cell_type": "code",
   "execution_count": 24,
   "id": "a4c44833-3f82-4713-a174-e2711e7df25a",
   "metadata": {},
   "outputs": [
    {
     "data": {
      "text/plain": [
       "(32, 309, 128, 1)"
      ]
     },
     "execution_count": 24,
     "metadata": {},
     "output_type": "execute_result"
    }
   ],
   "source": [
    "samples.shape"
   ]
  },
  {
   "cell_type": "code",
   "execution_count": 25,
   "id": "4ead1251-e22a-4f7e-94ab-ca776aee734a",
   "metadata": {},
   "outputs": [
    {
     "data": {
      "text/plain": [
       "(32,)"
      ]
     },
     "execution_count": 25,
     "metadata": {},
     "output_type": "execute_result"
    }
   ],
   "source": [
    "labels.shape"
   ]
  },
  {
   "cell_type": "code",
   "execution_count": 26,
   "id": "810896c1-f8ca-417d-a09b-7ac7934762a3",
   "metadata": {},
   "outputs": [],
   "source": [
    "specLen = samples.shape[1]"
   ]
  },
  {
   "cell_type": "markdown",
   "id": "80d26a25-d545-4c86-8ebb-f7a38375e755",
   "metadata": {},
   "source": [
    "### Build Model"
   ]
  },
  {
   "cell_type": "code",
   "execution_count": 27,
   "id": "05f2c2d3-034c-4b8f-9ff4-2a4e167e8690",
   "metadata": {},
   "outputs": [],
   "source": [
    "from tensorflow import keras\n",
    "from tensorflow.keras import layers\n",
    "import tensorflow_addons as tfa"
   ]
  },
  {
   "cell_type": "markdown",
   "id": "cf7f7b83-66f5-4e8f-9ca6-c435a5a12fba",
   "metadata": {},
   "source": [
    "#### set hyperparameters"
   ]
  },
  {
   "cell_type": "code",
   "execution_count": 28,
   "id": "77a11acb-36a8-45b2-bdf9-69ca50b8e90a",
   "metadata": {},
   "outputs": [],
   "source": [
    "learning_rate = 0.001\n",
    "weight_decay = 0.0001\n",
    "#batch_size = 16\n",
    "num_epochs = 50\n",
    "image_size = 144  # We'll resize input images to this size\n",
    "patch_size = 8  # Size of the patches to be extract from the input images\n",
    "num_patches = (image_size // patch_size) ** 2\n",
    "projection_dim = 64\n",
    "num_heads = 4\n",
    "transformer_units = [\n",
    "    projection_dim * 2,\n",
    "    projection_dim,\n",
    "]  # Size of the transformer layers\n",
    "transformer_layers = 8\n",
    "mlp_head_units = [2048, 1024]  # Size of the dense layers of the final classifier\n"
   ]
  },
  {
   "cell_type": "code",
   "execution_count": 29,
   "id": "59a28a36-9906-4df1-a546-a0f3fad26d02",
   "metadata": {},
   "outputs": [],
   "source": [
    "\n",
    "import tensorflow as tf\n",
    "from tensorflow.keras.layers import Layer\n",
    "\n",
    "\n",
    "class SpecAugment(Layer):\n",
    "    \"\"\"\n",
    "    Implementation of a layer that contains the SpecAugment Transformation\n",
    "    \"\"\"\n",
    "\n",
    "    def __init__(self,\n",
    "                 freq_mask_param: int,\n",
    "                 time_mask_param: int,\n",
    "                 n_freq_mask: int = 1,\n",
    "                 n_time_mask: int = 1,\n",
    "                 mask_value: float = 0.\n",
    "                 ):\n",
    "        \"\"\"\n",
    "        :param freq_mask_param: Frequency Mask Parameter (F in the paper)\n",
    "        :param time_mask_param: Time Mask Parameter (T in the paper)\n",
    "        :param n_freq_mask: Number of frequency masks to apply (mF in the paper). By default is 1.\n",
    "        :param n_time_mask: Number of time masks to apply (mT in the paper). By default is 1.\n",
    "        :param mask_value: Imputation value. By default is zero.\n",
    "        \"\"\"\n",
    "        super(SpecAugment, self).__init__(name=\"SpecAugment\")\n",
    "        self.freq_mask_param = freq_mask_param\n",
    "        self.time_mask_param = time_mask_param\n",
    "        self.n_freq_mask = n_freq_mask\n",
    "        self.n_time_mask = n_time_mask\n",
    "        self.mask_value = tf.cast(mask_value, tf.float32)\n",
    "\n",
    "    def _frequency_mask_single(self, input_mel_spectrogram: tf.Tensor) -> tf.Tensor:\n",
    "        \"\"\"\n",
    "        :param input_mel_spectrogram:\n",
    "        :return:\n",
    "        \"\"\"\n",
    "        n_mels = tf.cast(tf.shape(input_mel_spectrogram)[1], tf.float32)\n",
    "        freq_indices = tf.reshape(tf.cast(tf.range(n_mels), tf.int32), (1, -1, 1))\n",
    "\n",
    "        # We use the paper's notation\n",
    "        f = tf.cast(tf.random.uniform(shape=(), maxval=self.freq_mask_param), tf.int32)\n",
    "        f0 = tf.cast(tf.random.uniform(shape=(), maxval=n_mels - tf.cast(f, tf.float32)), tf.int32)\n",
    "\n",
    "        condition = tf.logical_and(freq_indices >= f0, freq_indices <= f0 + f)\n",
    "        return tf.cast(condition, tf.float32)\n",
    "\n",
    "    def _frequency_masks(self, input_mel_spectrogram: tf.Tensor) -> tf.Tensor:\n",
    "        \"\"\"\n",
    "        :param input_mel_spectrogram:\n",
    "        :return:\n",
    "        \"\"\"\n",
    "        mel_repeated = tf.repeat(tf.expand_dims(input_mel_spectrogram, 0), self.n_freq_mask, axis=0)\n",
    "        masks = tf.cast(tf.map_fn(elems=mel_repeated, fn=self._frequency_mask_single), tf.bool)\n",
    "        mask = tf.math.reduce_any(masks, 0)\n",
    "        return tf.where(mask, self.mask_value, input_mel_spectrogram)\n",
    "\n",
    "    def _time_mask_single(self, input_mel_spectrogram: tf.Tensor) -> tf.Tensor:\n",
    "        \"\"\"\n",
    "        :param input_mel_spectrogram:\n",
    "        :return:\n",
    "        \"\"\"\n",
    "        n_steps = tf.cast(tf.shape(input_mel_spectrogram)[0], tf.float32)\n",
    "        time_indices = tf.reshape(tf.cast(tf.range(n_steps), tf.int32), (-1, 1, 1))\n",
    "\n",
    "        # We use the paper's notation\n",
    "        t = tf.cast(tf.random.uniform(shape=(), maxval=self.time_mask_param), tf.int32)\n",
    "        t0 = tf.cast(tf.random.uniform(shape=(), maxval=n_steps - tf.cast(t, tf.float32)), tf.int32)\n",
    "\n",
    "        condition = tf.logical_and(time_indices >= t0, time_indices <= t0 + t)\n",
    "        return tf.cast(condition, tf.float32)\n",
    "\n",
    "    def _time_masks(self, input_mel_spectrogram: tf.Tensor) -> tf.Tensor:\n",
    "        \"\"\"\n",
    "        :param input_mel_spectrogram:\n",
    "        :return:\n",
    "        \"\"\"\n",
    "        mel_repeated = tf.repeat(tf.expand_dims(input_mel_spectrogram, 0), self.n_time_mask, axis=0)\n",
    "        masks = tf.cast(tf.map_fn(elems=mel_repeated, fn=self._time_mask_single), tf.bool)\n",
    "        mask = tf.math.reduce_any(masks, 0)\n",
    "        return tf.where(mask, self.mask_value, input_mel_spectrogram)\n",
    "\n",
    "    def _apply_spec_augment(self, input_mel_spectrogram: tf.Tensor) -> tf.Tensor:\n",
    "        \"\"\"\n",
    "        :param input_mel_spectrogram:\n",
    "        :return:\n",
    "        \"\"\"\n",
    "        if self.n_freq_mask >= 1:\n",
    "            input_mel_spectrogram = self._frequency_masks(input_mel_spectrogram)\n",
    "        if self.n_time_mask >= 1:\n",
    "            input_mel_spectrogram = self._time_masks(input_mel_spectrogram)\n",
    "        return input_mel_spectrogram\n",
    "\n",
    "    def call(self, inputs: tf.Tensor, training=None, **kwargs):\n",
    "        \"\"\"\n",
    "        Applies the SpecAugment operation to the input Mel Spectrogram\n",
    "        :param inputs: The input mel spectrogram\n",
    "        :param training: If True then it will be applied\n",
    "        :return: A mel spectrogram after the time and frequency are applied\n",
    "        \"\"\"\n",
    "        if training:\n",
    "            inputs_masked = tf.map_fn(elems=inputs, fn=self._apply_spec_augment)\n",
    "            return inputs_masked\n",
    "        return inputs\n",
    "\n",
    "    def get_config(self):\n",
    "        \"\"\"\n",
    "        Generates a description of the parameters selected. It uses the notation in the paper\n",
    "        :return:\n",
    "        \"\"\"\n",
    "        config = {\n",
    "            \"freq_mask_param\": self.freq_mask_param,\n",
    "            \"time_mask_param\": self.time_mask_param,\n",
    "            \"n_freq_mask\": self.n_freq_mask,\n",
    "            \"n_time_mask\": self.n_time_mask,\n",
    "            \"mask_value\": self.mask_value.numpy(),\n",
    "        }\n",
    "        return config"
   ]
  },
  {
   "cell_type": "code",
   "execution_count": 30,
   "id": "578e70a7-e3ae-4930-a4c5-81caac570dcb",
   "metadata": {},
   "outputs": [],
   "source": [
    "data_augmentation = keras.Sequential(\n",
    "    [\n",
    "        layers.Normalization(),\n",
    "        layers.Resizing(image_size, image_size)\n",
    "    ],\n",
    "    name=\"data_augmentation\",\n",
    ")"
   ]
  },
  {
   "cell_type": "code",
   "execution_count": 31,
   "id": "e3c0ce17-f30d-4021-9482-ee63bb4906a9",
   "metadata": {},
   "outputs": [],
   "source": [
    "spec_augment = SpecAugment(freq_mask_param=5,\n",
    "                           time_mask_param=10,\n",
    "                           n_freq_mask=5,\n",
    "                           n_time_mask=3,\n",
    "                           mask_value=-100) "
   ]
  },
  {
   "cell_type": "code",
   "execution_count": 32,
   "id": "d184d363-bcce-4cf8-8bad-fdaea2a072da",
   "metadata": {},
   "outputs": [],
   "source": [
    "from keras.models import Sequential\n",
    "from keras.layers import Conv2D, MaxPooling2D\n",
    "from keras.layers import Flatten, Dense"
   ]
  },
  {
   "cell_type": "code",
   "execution_count": 33,
   "id": "2afae6b8-24d7-4a8b-8692-73ede973d5ea",
   "metadata": {},
   "outputs": [],
   "source": [
    "def create_cnn_classifier():\n",
    "    model = Sequential()\n",
    "    #model.add(layer.Input(shape=(311,128,1)))\n",
    "    model.add(Conv2D(32, (3, 3), activation='relu', input_shape=(309, 128, 1)))\n",
    "    model.add(MaxPooling2D(2, 2))\n",
    "    model.add(Conv2D(128, (3, 3), activation='relu'))\n",
    "    model.add(MaxPooling2D(2, 2))\n",
    "    model.add(Conv2D(128, (3, 3), activation='relu'))\n",
    "    model.add(MaxPooling2D(2, 2))\n",
    "    model.add(Conv2D(128, (3, 3), activation='relu'))\n",
    "    model.add(MaxPooling2D(2, 2))\n",
    "    model.add(Flatten())\n",
    "    model.add(Dense(1024, activation='relu'))\n",
    "    model.add(Dense(6, activation='softmax'))\n",
    "    #model.compile(optimizer='adam', loss='categorical_crossentropy', metrics=['accuracy'])\n",
    "    #model.summary()\n",
    "    return model"
   ]
  },
  {
   "cell_type": "code",
   "execution_count": 35,
   "id": "3690d0be-524d-4166-a53f-92d9ce4b8b57",
   "metadata": {},
   "outputs": [
    {
     "name": "stdout",
     "output_type": "stream",
     "text": [
      "Epoch 1/50\n"
     ]
    },
    {
     "name": "stderr",
     "output_type": "stream",
     "text": [
      "2022-08-07 14:23:05.821778: I tensorflow/stream_executor/cuda/cuda_dnn.cc:384] Loaded cuDNN version 8100\n",
      "2022-08-07 14:23:06.465795: I tensorflow/core/platform/default/subprocess.cc:304] Start cannot spawn child process: No such file or directory\n",
      "2022-08-07 14:23:06.466127: I tensorflow/core/platform/default/subprocess.cc:304] Start cannot spawn child process: No such file or directory\n",
      "2022-08-07 14:23:06.466136: W tensorflow/stream_executor/gpu/asm_compiler.cc:80] Couldn't get ptxas version string: INTERNAL: Couldn't invoke ptxas --version\n",
      "2022-08-07 14:23:06.466485: I tensorflow/core/platform/default/subprocess.cc:304] Start cannot spawn child process: No such file or directory\n",
      "2022-08-07 14:23:06.466520: W tensorflow/stream_executor/gpu/redzone_allocator.cc:314] INTERNAL: Failed to launch ptxas\n",
      "Relying on driver to perform ptx compilation. \n",
      "Modify $PATH to customize ptxas location.\n",
      "This message will be only logged once.\n"
     ]
    },
    {
     "name": "stdout",
     "output_type": "stream",
     "text": [
      "486/486 [==============================] - 26s 49ms/step - loss: 0.9424 - accuracy: 0.6709 - top-2-accuracy: 0.8267 - val_loss: 0.5877 - val_accuracy: 0.8090 - val_top-2-accuracy: 0.9237\n",
      "Epoch 2/50\n",
      "486/486 [==============================] - 24s 48ms/step - loss: 0.5390 - accuracy: 0.8224 - top-2-accuracy: 0.9224 - val_loss: 0.4641 - val_accuracy: 0.8485 - val_top-2-accuracy: 0.9390\n",
      "Epoch 3/50\n",
      "486/486 [==============================] - 24s 48ms/step - loss: 0.4186 - accuracy: 0.8576 - top-2-accuracy: 0.9423 - val_loss: 0.4364 - val_accuracy: 0.8555 - val_top-2-accuracy: 0.9496\n",
      "Epoch 4/50\n",
      "486/486 [==============================] - 24s 48ms/step - loss: 0.3339 - accuracy: 0.8875 - top-2-accuracy: 0.9572 - val_loss: 0.4341 - val_accuracy: 0.8635 - val_top-2-accuracy: 0.9410\n",
      "Epoch 5/50\n",
      "486/486 [==============================] - 24s 48ms/step - loss: 0.2278 - accuracy: 0.9210 - top-2-accuracy: 0.9746 - val_loss: 0.4877 - val_accuracy: 0.8544 - val_top-2-accuracy: 0.9387\n",
      "Epoch 6/50\n",
      "486/486 [==============================] - 24s 47ms/step - loss: 0.1590 - accuracy: 0.9446 - top-2-accuracy: 0.9824 - val_loss: 0.7117 - val_accuracy: 0.8332 - val_top-2-accuracy: 0.9298\n",
      "Epoch 7/50\n",
      "486/486 [==============================] - 24s 47ms/step - loss: 0.1279 - accuracy: 0.9571 - top-2-accuracy: 0.9869 - val_loss: 0.6599 - val_accuracy: 0.8460 - val_top-2-accuracy: 0.9290\n",
      "Epoch 8/50\n",
      "486/486 [==============================] - 24s 48ms/step - loss: 0.0932 - accuracy: 0.9681 - top-2-accuracy: 0.9898 - val_loss: 0.7973 - val_accuracy: 0.8538 - val_top-2-accuracy: 0.9396\n",
      "Epoch 9/50\n",
      "486/486 [==============================] - 24s 47ms/step - loss: 0.0923 - accuracy: 0.9703 - top-2-accuracy: 0.9903 - val_loss: 0.9039 - val_accuracy: 0.8260 - val_top-2-accuracy: 0.9209\n",
      "Epoch 10/50\n",
      "486/486 [==============================] - 24s 47ms/step - loss: 0.0725 - accuracy: 0.9757 - top-2-accuracy: 0.9918 - val_loss: 0.7685 - val_accuracy: 0.8388 - val_top-2-accuracy: 0.9329\n",
      "Epoch 11/50\n",
      "486/486 [==============================] - 24s 47ms/step - loss: 0.0555 - accuracy: 0.9805 - top-2-accuracy: 0.9926 - val_loss: 1.0578 - val_accuracy: 0.8254 - val_top-2-accuracy: 0.9237\n",
      "Epoch 12/50\n",
      "486/486 [==============================] - 24s 47ms/step - loss: 0.0669 - accuracy: 0.9777 - top-2-accuracy: 0.9930 - val_loss: 0.9740 - val_accuracy: 0.8393 - val_top-2-accuracy: 0.9293\n",
      "Epoch 13/50\n",
      "486/486 [==============================] - 24s 48ms/step - loss: 0.0626 - accuracy: 0.9796 - top-2-accuracy: 0.9924 - val_loss: 1.2661 - val_accuracy: 0.8390 - val_top-2-accuracy: 0.9273\n",
      "Epoch 14/50\n",
      "486/486 [==============================] - 24s 48ms/step - loss: 0.0710 - accuracy: 0.9784 - top-2-accuracy: 0.9921 - val_loss: 1.1520 - val_accuracy: 0.8496 - val_top-2-accuracy: 0.9321\n",
      "Epoch 15/50\n",
      "486/486 [==============================] - 24s 47ms/step - loss: 0.0605 - accuracy: 0.9798 - top-2-accuracy: 0.9933 - val_loss: 0.9832 - val_accuracy: 0.8519 - val_top-2-accuracy: 0.9340\n",
      "Epoch 16/50\n",
      "486/486 [==============================] - 24s 47ms/step - loss: 0.0413 - accuracy: 0.9860 - top-2-accuracy: 0.9940 - val_loss: 1.2419 - val_accuracy: 0.8499 - val_top-2-accuracy: 0.9284\n",
      "Epoch 17/50\n",
      "486/486 [==============================] - 24s 47ms/step - loss: 0.0369 - accuracy: 0.9862 - top-2-accuracy: 0.9941 - val_loss: 1.5301 - val_accuracy: 0.8354 - val_top-2-accuracy: 0.9226\n",
      "Epoch 18/50\n",
      "486/486 [==============================] - 24s 48ms/step - loss: 0.0612 - accuracy: 0.9807 - top-2-accuracy: 0.9941 - val_loss: 1.1900 - val_accuracy: 0.8493 - val_top-2-accuracy: 0.9268\n",
      "Epoch 19/50\n",
      "486/486 [==============================] - 24s 48ms/step - loss: 0.0425 - accuracy: 0.9858 - top-2-accuracy: 0.9941 - val_loss: 1.2298 - val_accuracy: 0.8396 - val_top-2-accuracy: 0.9240\n",
      "Epoch 20/50\n",
      "486/486 [==============================] - 24s 48ms/step - loss: 0.0378 - accuracy: 0.9862 - top-2-accuracy: 0.9944 - val_loss: 1.4756 - val_accuracy: 0.8482 - val_top-2-accuracy: 0.9376\n",
      "Epoch 21/50\n",
      "486/486 [==============================] - 24s 48ms/step - loss: 0.0603 - accuracy: 0.9800 - top-2-accuracy: 0.9938 - val_loss: 1.1133 - val_accuracy: 0.8463 - val_top-2-accuracy: 0.9312\n",
      "Epoch 22/50\n",
      "486/486 [==============================] - 24s 48ms/step - loss: 0.0418 - accuracy: 0.9860 - top-2-accuracy: 0.9939 - val_loss: 1.3564 - val_accuracy: 0.8421 - val_top-2-accuracy: 0.9276\n",
      "Epoch 23/50\n",
      "486/486 [==============================] - 24s 48ms/step - loss: 0.0374 - accuracy: 0.9871 - top-2-accuracy: 0.9954 - val_loss: 1.3254 - val_accuracy: 0.8435 - val_top-2-accuracy: 0.9229\n",
      "Epoch 24/50\n",
      "486/486 [==============================] - 24s 48ms/step - loss: 0.0345 - accuracy: 0.9879 - top-2-accuracy: 0.9946 - val_loss: 1.3243 - val_accuracy: 0.8555 - val_top-2-accuracy: 0.9329\n",
      "Epoch 25/50\n",
      "486/486 [==============================] - 24s 48ms/step - loss: 0.0531 - accuracy: 0.9824 - top-2-accuracy: 0.9945 - val_loss: 1.2159 - val_accuracy: 0.8335 - val_top-2-accuracy: 0.9231\n",
      "Epoch 26/50\n",
      "486/486 [==============================] - 24s 47ms/step - loss: 0.0453 - accuracy: 0.9861 - top-2-accuracy: 0.9953 - val_loss: 1.5571 - val_accuracy: 0.8165 - val_top-2-accuracy: 0.9142\n",
      "Epoch 27/50\n",
      "486/486 [==============================] - 24s 48ms/step - loss: 0.0241 - accuracy: 0.9912 - top-2-accuracy: 0.9962 - val_loss: 1.5362 - val_accuracy: 0.8454 - val_top-2-accuracy: 0.9237\n",
      "Epoch 28/50\n",
      "486/486 [==============================] - 24s 48ms/step - loss: 0.0468 - accuracy: 0.9851 - top-2-accuracy: 0.9950 - val_loss: 1.4622 - val_accuracy: 0.8390 - val_top-2-accuracy: 0.9270\n",
      "Epoch 29/50\n",
      "486/486 [==============================] - 24s 48ms/step - loss: 0.0341 - accuracy: 0.9885 - top-2-accuracy: 0.9966 - val_loss: 1.3763 - val_accuracy: 0.8460 - val_top-2-accuracy: 0.9346\n",
      "Epoch 30/50\n",
      "486/486 [==============================] - 24s 47ms/step - loss: 0.0462 - accuracy: 0.9862 - top-2-accuracy: 0.9957 - val_loss: 1.3985 - val_accuracy: 0.8421 - val_top-2-accuracy: 0.9265\n",
      "Epoch 31/50\n",
      "486/486 [==============================] - 24s 47ms/step - loss: 0.0256 - accuracy: 0.9914 - top-2-accuracy: 0.9958 - val_loss: 1.4631 - val_accuracy: 0.8499 - val_top-2-accuracy: 0.9348\n",
      "Epoch 32/50\n",
      "486/486 [==============================] - 24s 47ms/step - loss: 0.0238 - accuracy: 0.9914 - top-2-accuracy: 0.9967 - val_loss: 1.5737 - val_accuracy: 0.8432 - val_top-2-accuracy: 0.9229\n",
      "Epoch 33/50\n",
      "486/486 [==============================] - 24s 47ms/step - loss: 0.0484 - accuracy: 0.9863 - top-2-accuracy: 0.9954 - val_loss: 1.4423 - val_accuracy: 0.8569 - val_top-2-accuracy: 0.9334\n",
      "Epoch 34/50\n",
      "486/486 [==============================] - 24s 48ms/step - loss: 0.0393 - accuracy: 0.9876 - top-2-accuracy: 0.9967 - val_loss: 1.4440 - val_accuracy: 0.8404 - val_top-2-accuracy: 0.9229\n",
      "Epoch 35/50\n",
      "486/486 [==============================] - 24s 47ms/step - loss: 0.0243 - accuracy: 0.9916 - top-2-accuracy: 0.9966 - val_loss: 1.5853 - val_accuracy: 0.8574 - val_top-2-accuracy: 0.9318\n",
      "Epoch 36/50\n",
      "486/486 [==============================] - 24s 47ms/step - loss: 0.0276 - accuracy: 0.9909 - top-2-accuracy: 0.9963 - val_loss: 1.3576 - val_accuracy: 0.8454 - val_top-2-accuracy: 0.9321\n",
      "Epoch 37/50\n",
      "486/486 [==============================] - 24s 47ms/step - loss: 0.0254 - accuracy: 0.9920 - top-2-accuracy: 0.9970 - val_loss: 1.8323 - val_accuracy: 0.8304 - val_top-2-accuracy: 0.9240\n",
      "Epoch 38/50\n",
      "486/486 [==============================] - 24s 47ms/step - loss: 0.0497 - accuracy: 0.9858 - top-2-accuracy: 0.9953 - val_loss: 1.8989 - val_accuracy: 0.8173 - val_top-2-accuracy: 0.9248\n",
      "Epoch 39/50\n",
      "486/486 [==============================] - 24s 47ms/step - loss: 0.0335 - accuracy: 0.9903 - top-2-accuracy: 0.9968 - val_loss: 1.6948 - val_accuracy: 0.8516 - val_top-2-accuracy: 0.9315\n",
      "Epoch 40/50\n",
      "486/486 [==============================] - 24s 47ms/step - loss: 0.0168 - accuracy: 0.9934 - top-2-accuracy: 0.9975 - val_loss: 1.6944 - val_accuracy: 0.8432 - val_top-2-accuracy: 0.9301\n",
      "Epoch 41/50\n",
      "486/486 [==============================] - 24s 47ms/step - loss: 0.0362 - accuracy: 0.9900 - top-2-accuracy: 0.9970 - val_loss: 1.5829 - val_accuracy: 0.8452 - val_top-2-accuracy: 0.9259\n",
      "Epoch 42/50\n",
      "486/486 [==============================] - 24s 47ms/step - loss: 0.0207 - accuracy: 0.9928 - top-2-accuracy: 0.9972 - val_loss: 1.7302 - val_accuracy: 0.8432 - val_top-2-accuracy: 0.9259\n",
      "Epoch 43/50\n",
      "486/486 [==============================] - 24s 48ms/step - loss: 0.0293 - accuracy: 0.9909 - top-2-accuracy: 0.9966 - val_loss: 1.5407 - val_accuracy: 0.8555 - val_top-2-accuracy: 0.9332\n",
      "Epoch 44/50\n",
      "486/486 [==============================] - 24s 47ms/step - loss: 0.0239 - accuracy: 0.9924 - top-2-accuracy: 0.9978 - val_loss: 1.9344 - val_accuracy: 0.8435 - val_top-2-accuracy: 0.9248\n",
      "Epoch 45/50\n",
      "486/486 [==============================] - 24s 48ms/step - loss: 0.0319 - accuracy: 0.9911 - top-2-accuracy: 0.9970 - val_loss: 1.7455 - val_accuracy: 0.8376 - val_top-2-accuracy: 0.9195\n",
      "Epoch 46/50\n",
      "486/486 [==============================] - 24s 47ms/step - loss: 0.0346 - accuracy: 0.9909 - top-2-accuracy: 0.9968 - val_loss: 1.7073 - val_accuracy: 0.8374 - val_top-2-accuracy: 0.9237\n",
      "Epoch 47/50\n",
      "486/486 [==============================] - 24s 47ms/step - loss: 0.0220 - accuracy: 0.9929 - top-2-accuracy: 0.9976 - val_loss: 1.7282 - val_accuracy: 0.8424 - val_top-2-accuracy: 0.9262\n",
      "Epoch 48/50\n",
      "486/486 [==============================] - 24s 47ms/step - loss: 0.0231 - accuracy: 0.9932 - top-2-accuracy: 0.9976 - val_loss: 1.4727 - val_accuracy: 0.8513 - val_top-2-accuracy: 0.9304\n",
      "Epoch 49/50\n",
      "486/486 [==============================] - 24s 47ms/step - loss: 0.0192 - accuracy: 0.9934 - top-2-accuracy: 0.9977 - val_loss: 1.5628 - val_accuracy: 0.8527 - val_top-2-accuracy: 0.9276\n",
      "Epoch 50/50\n",
      "486/486 [==============================] - 24s 47ms/step - loss: 0.0190 - accuracy: 0.9939 - top-2-accuracy: 0.9974 - val_loss: 1.9998 - val_accuracy: 0.8321 - val_top-2-accuracy: 0.9156\n",
      "58/58 [==============================] - 2s 21ms/step - loss: 0.4588 - accuracy: 0.8534 - top-2-accuracy: 0.9321\n",
      "Test accuracy: 85.34%\n",
      "Test top 2 accuracy: 93.21%\n"
     ]
    }
   ],
   "source": [
    "def run_experiment(model):\n",
    "    #optimizer = tfa.optimizers.AdamW(\n",
    "    #    learning_rate=learning_rate, weight_decay=weight_decay\n",
    "    #)\n",
    "\n",
    "    model.compile(\n",
    "        optimizer='adam',\n",
    "        loss=keras.losses.SparseCategoricalCrossentropy(from_logits=False),\n",
    "        metrics=[\n",
    "            keras.metrics.SparseCategoricalAccuracy(name=\"accuracy\"),\n",
    "            keras.metrics.SparseTopKCategoricalAccuracy(2, name=\"top-2-accuracy\"),\n",
    "            #keras.metrics.AUC(name='auc'),\n",
    "            #tfa.metrics.F1Score(name='F1',num_classes=6)\n",
    "        ],\n",
    "    )\n",
    "\n",
    "    cwd = os.getcwd()\n",
    "    model_dir = os.path.join(cwd,'models')\n",
    "    this_model_dir = os.path.join(model_dir,f'cnn')\n",
    "    if not os.path.exists(model_dir):\n",
    "        os.mkdir(model_dir)\n",
    "    if not os.path.exists(this_model_dir):\n",
    "        os.mkdir(this_model_dir)\n",
    "    checkpoint_filepath = os.path.join(this_model_dir,'cp.ckpt')\n",
    "    checkpoint_callback = keras.callbacks.ModelCheckpoint(\n",
    "        checkpoint_filepath,\n",
    "        monitor=\"val_accuracy\",\n",
    "        save_best_only=True,\n",
    "        save_weights_only=True,\n",
    "    )\n",
    "\n",
    "    history = model.fit(\n",
    "        train_ds,\n",
    "        validation_data=test_ds,\n",
    "        epochs=num_epochs,\n",
    "        callbacks=[checkpoint_callback],\n",
    "    )\n",
    "\n",
    "    model.load_weights(checkpoint_filepath)\n",
    "    _, accuracy, top_2_accuracy = model.evaluate(val_ds)\n",
    "    print(f\"Test accuracy: {round(accuracy * 100, 2)}%\")\n",
    "    print(f\"Test top 2 accuracy: {round(top_2_accuracy * 100, 2)}%\")\n",
    "\n",
    "    return history\n",
    "\n",
    "\n",
    "cnn_classifier = create_cnn_classifier()\n",
    "history = run_experiment(cnn_classifier)\n"
   ]
  },
  {
   "cell_type": "code",
   "execution_count": 36,
   "id": "9d5c08c5-328b-4555-b7d1-6ac3b71f68f8",
   "metadata": {},
   "outputs": [
    {
     "data": {
      "image/png": "[encoded data removed]",
      "text/plain": [
       "<Figure size 432x288 with 1 Axes>"
      ]
     },
     "metadata": {
      "needs_background": "light"
     },
     "output_type": "display_data"
    }
   ],
   "source": [
    "plt.title('Loss')\n",
    "plt.plot(history.history['loss'], 'r')\n",
    "plt.plot(history.history['val_loss'], 'b')\n",
    "plt.show()"
   ]
  },
  {
   "cell_type": "code",
   "execution_count": 37,
   "id": "f2f6a56b-3012-4f0d-b5f4-25a05bc33e9a",
   "metadata": {},
   "outputs": [
    {
     "data": {
      "image/png": "[encoded data removed]",
      "text/plain": [
       "<Figure size 432x288 with 1 Axes>"
      ]
     },
     "metadata": {
      "needs_background": "light"
     },
     "output_type": "display_data"
    }
   ],
   "source": [
    "plt.title('Accuracy')\n",
    "plt.plot(history.history['accuracy'], 'r')\n",
    "plt.plot(history.history['val_accuracy'], 'b')\n",
    "plt.show()"
   ]
  },
  {
   "cell_type": "markdown",
   "id": "30d291c5-70bd-4911-afef-b3020ccd7f94",
   "metadata": {},
   "source": [
    "### Output"
   ]
  },
  {
   "cell_type": "code",
   "execution_count": 38,
   "id": "1b5907d6-ac67-4f06-8117-353af7728738",
   "metadata": {},
   "outputs": [],
   "source": [
    "import pickle\n",
    "import csv"
   ]
  },
  {
   "cell_type": "code",
   "execution_count": 39,
   "id": "ae712b71-cd67-407f-a597-2f0de8647749",
   "metadata": {},
   "outputs": [],
   "source": [
    "cwd = os.getcwd()\n",
    "model_dir = os.path.join(cwd,'models')\n",
    "this_model_dir = os.path.join(model_dir,f'cnn')\n",
    "if not os.path.exists(model_dir):\n",
    "    os.mkdir(model_dir)\n",
    "if not os.path.exists(this_model_dir):\n",
    "    os.mkdir(this_model_dir)\n",
    "with open(os.path.join(this_model_dir,'history.pkl'), 'wb') as f:\n",
    "    pickle.dump(history.history, f, protocol=pickle.HIGHEST_PROTOCOL)"
   ]
  },
  {
   "cell_type": "code",
   "execution_count": null,
   "id": "c83512f5-59df-4d43-9264-431615190e29",
   "metadata": {},
   "outputs": [],
   "source": []
  },
  {
   "cell_type": "code",
   "execution_count": null,
   "id": "0fb1c4b1-dc8d-4c01-b791-7e38aa425972",
   "metadata": {},
   "outputs": [],
   "source": []
  }
 ],
 "metadata": {
  "kernelspec": {
   "display_name": "tf_latest",
   "language": "python",
   "name": "tf_latest"
  },
  "language_info": {
   "codemirror_mode": {
    "name": "ipython",
    "version": 3
   },
   "file_extension": ".py",
   "mimetype": "text/x-python",
   "name": "python",
   "nbconvert_exporter": "python",
   "pygments_lexer": "ipython3",
   "version": "3.9.12"
  }
 },
 "nbformat": 4,
 "nbformat_minor": 5
}
