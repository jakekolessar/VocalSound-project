{
 "cells": [
  {
   "cell_type": "markdown",
   "id": "39926625-2549-44b9-9e05-9e4ed6102bb2",
   "metadata": {},
   "source": [
    "## Setup"
   ]
  },
  {
   "cell_type": "code",
   "execution_count": 1,
   "id": "5b3108b0-1607-4143-b08e-53fb34cbb435",
   "metadata": {},
   "outputs": [],
   "source": [
    "import os\n",
    "import csv\n",
    "import json\n",
    "import pathlib\n",
    "\n",
    "import matplotlib.pyplot as plt\n",
    "import numpy as np\n",
    "import seaborn as sns\n",
    "import tensorflow as tf\n",
    "import tensorflow_ranking as tfr\n",
    "\n",
    "from tensorflow.keras import layers\n",
    "from tensorflow.keras import models\n",
    "from IPython import display"
   ]
  },
  {
   "cell_type": "code",
   "execution_count": 2,
   "id": "044a49ef-e5af-4671-a7e0-0d85df252c49",
   "metadata": {},
   "outputs": [],
   "source": [
    "import glob\n",
    "import librosa"
   ]
  },
  {
   "cell_type": "code",
   "execution_count": 3,
   "id": "fb2132f7-a41c-42b5-877c-08f9066a745e",
   "metadata": {},
   "outputs": [],
   "source": [
    "import tensorflow_io as tfio"
   ]
  },
  {
   "cell_type": "code",
   "execution_count": 4,
   "id": "4bea0d3b-2b1b-4dd8-8c8b-d43f1a062882",
   "metadata": {},
   "outputs": [
    {
     "name": "stdout",
     "output_type": "stream",
     "text": [
      "WARNING:tensorflow:From /tmp/ipykernel_308086/337460670.py:1: is_gpu_available (from tensorflow.python.framework.test_util) is deprecated and will be removed in a future version.\n",
      "Instructions for updating:\n",
      "Use `tf.config.list_physical_devices('GPU')` instead.\n"
     ]
    },
    {
     "name": "stderr",
     "output_type": "stream",
     "text": [
      "2022-08-07 01:29:06.000769: I tensorflow/core/platform/cpu_feature_guard.cc:193] This TensorFlow binary is optimized with oneAPI Deep Neural Network Library (oneDNN) to use the following CPU instructions in performance-critical operations:  AVX2 FMA\n",
      "To enable them in other operations, rebuild TensorFlow with the appropriate compiler flags.\n",
      "2022-08-07 01:29:06.037324: I tensorflow/stream_executor/cuda/cuda_gpu_executor.cc:975] successful NUMA node read from SysFS had negative value (-1), but there must be at least one NUMA node, so returning NUMA node zero\n",
      "2022-08-07 01:29:06.040705: I tensorflow/stream_executor/cuda/cuda_gpu_executor.cc:975] successful NUMA node read from SysFS had negative value (-1), but there must be at least one NUMA node, so returning NUMA node zero\n",
      "2022-08-07 01:29:06.041054: I tensorflow/stream_executor/cuda/cuda_gpu_executor.cc:975] successful NUMA node read from SysFS had negative value (-1), but there must be at least one NUMA node, so returning NUMA node zero\n",
      "2022-08-07 01:29:06.344998: I tensorflow/stream_executor/cuda/cuda_gpu_executor.cc:975] successful NUMA node read from SysFS had negative value (-1), but there must be at least one NUMA node, so returning NUMA node zero\n",
      "2022-08-07 01:29:06.345342: I tensorflow/stream_executor/cuda/cuda_gpu_executor.cc:975] successful NUMA node read from S"
     ]
    },
    {
     "data": {
      "text/plain": [
       "True"
      ]
     },
     "execution_count": 4,
     "metadata": {},
     "output_type": "execute_result"
    },
    {
     "name": "stderr",
     "output_type": "stream",
     "text": [
      "ysFS had negative value (-1), but there must be at least one NUMA node, so returning NUMA node zero\n",
      "2022-08-07 01:29:06.345636: I tensorflow/stream_executor/cuda/cuda_gpu_executor.cc:975] successful NUMA node read from SysFS had negative value (-1), but there must be at least one NUMA node, so returning NUMA node zero\n",
      "2022-08-07 01:29:06.345921: I tensorflow/core/common_runtime/gpu/gpu_device.cc:1532] Created device /device:GPU:0 with 9697 MB memory:  -> device: 0, name: NVIDIA GeForce RTX 3080 Ti, pci bus id: 0000:08:00.0, compute capability: 8.6\n"
     ]
    }
   ],
   "source": [
    "tf.test.is_gpu_available()"
   ]
  },
  {
   "cell_type": "markdown",
   "id": "b19adb3d-2a4c-40ef-9f2a-7be36500674a",
   "metadata": {},
   "source": [
    "config = tf.ConfigProto()\n",
    "config.gpu_options.allow_growth = True\n",
    "config.gpu_options.per_process_gpu_memory_fraction = 0.5\n",
    "session = tf.Session(config=config)"
   ]
  },
  {
   "cell_type": "code",
   "execution_count": 5,
   "id": "86d7e269-a08b-447e-af4d-59496298b379",
   "metadata": {},
   "outputs": [],
   "source": [
    "data_dir_path = pathlib.Path('/home/jake/project/split')"
   ]
  },
  {
   "cell_type": "code",
   "execution_count": 6,
   "id": "93dab704-ace5-4431-8241-cd4c833c7676",
   "metadata": {},
   "outputs": [],
   "source": [
    "aug = False"
   ]
  },
  {
   "cell_type": "markdown",
   "id": "bd63bb64-2e5a-48ba-be26-e9a1bcb9dfb5",
   "metadata": {},
   "source": [
    "## Load Data"
   ]
  },
  {
   "cell_type": "code",
   "execution_count": 7,
   "id": "6324c12f-7ee8-4178-b1a7-6a1dcb993ea7",
   "metadata": {},
   "outputs": [
    {
     "name": "stderr",
     "output_type": "stream",
     "text": [
      "2022-08-07 01:29:06.383023: I tensorflow/stream_executor/cuda/cuda_gpu_executor.cc:975] successful NUMA node read from SysFS had negative value (-1), but there must be at least one NUMA node, so returning NUMA node zero\n",
      "2022-08-07 01:29:06.383456: I tensorflow/stream_executor/cuda/cuda_gpu_executor.cc:975] successful NUMA node read from SysFS had negative value (-1), but there must be at least one NUMA node, so returning NUMA node zero\n",
      "2022-08-07 01:29:06.383793: I tensorflow/stream_executor/cuda/cuda_gpu_executor.cc:975] successful NUMA node read from SysFS had negative value (-1), but there must be at least one NUMA node, so returning NUMA node zero\n",
      "2022-08-07 01:29:06.384398: I tensorflow/stream_executor/cuda/cuda_gpu_executor.cc:975] successful NUMA node read from SysFS had negative value (-1), but there must be at least one NUMA node, so returning NUMA node zero\n",
      "2022-08-07 01:29:06.384732: I tensorflow/stream_executor/cuda/cuda_gpu_executor.cc:975] successful NUMA node read from SysFS had negative value (-1), but there must be at least one NUMA node, so returning NUMA node zero\n",
      "2022-08-07 01:29:06.385061: I tensorflow/stream_executor/cuda/cuda_gpu_executor.cc:975] successful NUMA node read from SysFS had negative value (-1), but there must be at least one NUMA node, so returning NUMA node zero\n",
      "2022-08-07 01:29:06.385406: I tensorflow/stream_executor/cuda/cuda_gpu_executor.cc:975] successful NUMA node read from SysFS had negative value (-1), but there must be at least one NUMA node, so returning NUMA node zero\n",
      "2022-08-07 01:29:06.385729: I tensorflow/stream_executor/cuda/cuda_gpu_executor.cc:975] successful NUMA node read from SysFS had negative value (-1), but there must be at least one NUMA node, so returning NUMA node zero\n",
      "2022-08-07 01:29:06.386009: I tensorflow/core/common_runtime/gpu/gpu_device.cc:1532] Created device /job:localhost/replica:0/task:0/device:GPU:0 with 9697 MB memory:  -> device: 0, name: NVIDIA GeForce RTX 3080 Ti, pci bus id: 0000:08:00.0, compute capability: 8.6\n"
     ]
    }
   ],
   "source": [
    "train_ds = tf.data.Dataset.list_files('/home/jake/project/split/train/*/*', shuffle=True)\n",
    "test_ds = tf.data.Dataset.list_files('/home/jake/project/split/test/*/*', shuffle=True)\n",
    "val_ds = tf.data.Dataset.list_files('/home/jake/project/split/val/*/*', shuffle=False)"
   ]
  },
  {
   "cell_type": "code",
   "execution_count": 8,
   "id": "e4b6f1e1-1caf-4e1d-a49c-687052e2105f",
   "metadata": {},
   "outputs": [],
   "source": [
    "train_path = pathlib.Path('/home/jake/project/split/train/')"
   ]
  },
  {
   "cell_type": "code",
   "execution_count": 9,
   "id": "84f180d9-7b29-429f-bd9a-2340a9312de7",
   "metadata": {},
   "outputs": [
    {
     "name": "stdout",
     "output_type": "stream",
     "text": [
      "['cough' 'laughter' 'sigh' 'sneeze' 'sniff' 'throatclearing']\n"
     ]
    }
   ],
   "source": [
    "class_names = np.array(sorted([item.name for item in train_path.glob('*') if item.name != \"LICENSE.txt\"]))\n",
    "print(class_names)"
   ]
  },
  {
   "cell_type": "markdown",
   "id": "ddbf7c60-557b-4504-96b7-59b3def82339",
   "metadata": {},
   "source": [
    "## Define Data Pipeline Functions"
   ]
  },
  {
   "cell_type": "code",
   "execution_count": 10,
   "id": "d2337ebe-3456-4a13-867e-1a74338962b4",
   "metadata": {},
   "outputs": [],
   "source": [
    "def get_label(file_path):\n",
    "  # Convert the path to a list of path components\n",
    "  parts = tf.strings.split(file_path, os.path.sep)\n",
    "  # The second to last is the class-directory\n",
    "  one_hot = parts[-2] == class_names\n",
    "  # Integer encode the label\n",
    "  return tf.argmax(one_hot)"
   ]
  },
  {
   "cell_type": "code",
   "execution_count": 11,
   "id": "2b14bd08-23d0-443b-99e3-2e066a8ddfc6",
   "metadata": {},
   "outputs": [],
   "source": [
    "def load_wav_16k_mono(filename):\n",
    "    # Load encoded wav file\n",
    "    file_contents = tf.io.read_file(filename)\n",
    "    # Decode wav (tensors by channels) \n",
    "    wav, sample_rate = tf.audio.decode_wav(file_contents, desired_channels=1)\n",
    "    # Removes trailing axis\n",
    "    wav = tf.squeeze(wav, axis=-1)\n",
    "    sample_rate = tf.cast(sample_rate, dtype=tf.int64)\n",
    "    # Goes from 44100Hz to 16000hz - amplitude of the audio signal\n",
    "    wav = tfio.audio.resample(wav, rate_in=sample_rate, rate_out=16000)\n",
    "    return wav"
   ]
  },
  {
   "cell_type": "code",
   "execution_count": 12,
   "id": "a399e3a1-fce6-4752-9228-911e061474a3",
   "metadata": {},
   "outputs": [],
   "source": [
    "def preprocess(file_path):\n",
    "    label = get_label(file_path)\n",
    "    wav = load_wav_16k_mono(file_path)\n",
    "    wav = wav[:80000]\n",
    "    zero_padding = tf.zeros([80000] - tf.shape(wav), dtype=tf.float32)\n",
    "    wav = tf.concat([zero_padding, wav],0)\n",
    "    stfts = tf.signal.stft(wav, frame_length=1024 , frame_step=256)\n",
    "    spectrograms = tf.abs(stfts)\n",
    "    num_spectrogram_bins = 513\n",
    "    lower_edge_hertz, upper_edge_hertz, num_mel_bins = 80.0, 8000, 128\n",
    "    linear_to_mel_weight_matrix = tf.signal.linear_to_mel_weight_matrix(\n",
    "        num_mel_bins, num_spectrogram_bins, 16000, lower_edge_hertz, upper_edge_hertz)\n",
    "    mel_spectrograms = tf.tensordot(spectrograms, linear_to_mel_weight_matrix, 1)\n",
    "    mel_spectrograms.set_shape(spectrograms.shape[:-1].concatenate(\n",
    "        linear_to_mel_weight_matrix.shape[-1:]))\n",
    "    log_mel_spec = tf.math.log(mel_spectrograms + 1e-6)\n",
    "    log_mel_spectrogram = tf.expand_dims(log_mel_spec, axis=2)\n",
    "    return log_mel_spectrogram, label"
   ]
  },
  {
   "cell_type": "markdown",
   "id": "db75ee1e-f85f-4d40-ae9d-27c8c60eb0de",
   "metadata": {},
   "source": [
    "### Test Data Pipeline"
   ]
  },
  {
   "cell_type": "code",
   "execution_count": 13,
   "id": "9d3d8a88-bfe4-4b86-8e3f-c618d154d6aa",
   "metadata": {},
   "outputs": [
    {
     "name": "stdout",
     "output_type": "stream",
     "text": [
      "b'/home/jake/project/split/train/laughter/m2717_0_laughter.wav'\n"
     ]
    }
   ],
   "source": [
    "for x in train_ds.take(1):\n",
    "    print(x.numpy())"
   ]
  },
  {
   "cell_type": "code",
   "execution_count": 14,
   "id": "6dfded1b-e54a-4b63-b089-690a11566e37",
   "metadata": {},
   "outputs": [],
   "source": [
    "test_path = '/home/jake/project/split/train/sigh/m0577_0_sigh.wav'"
   ]
  },
  {
   "cell_type": "code",
   "execution_count": 15,
   "id": "b4f82b8e-5db7-465f-a689-c7f6ff6e73ec",
   "metadata": {},
   "outputs": [],
   "source": [
    "test_path = '/home/jake/project/split/train/sneeze/f3344_0_sneeze.wav'"
   ]
  },
  {
   "cell_type": "code",
   "execution_count": 16,
   "id": "82d628e8-568f-4e60-9e07-03dfba892e49",
   "metadata": {},
   "outputs": [],
   "source": [
    "test_path = '/home/jake/project/split/train/throatclearing/m1663_0_throatclearing.wav'"
   ]
  },
  {
   "cell_type": "code",
   "execution_count": 17,
   "id": "ebb29dd9-8d5a-4a40-a58f-50d8d14153db",
   "metadata": {},
   "outputs": [],
   "source": [
    "test_path = '/home/jake/project/split/train/laughter/m1231_0_laughter.wav'"
   ]
  },
  {
   "cell_type": "code",
   "execution_count": 18,
   "id": "8a18bd9c-abe2-49d2-adf4-449da6658203",
   "metadata": {},
   "outputs": [
    {
     "name": "stderr",
     "output_type": "stream",
     "text": [
      "2022-08-07 01:29:06.615977: I tensorflow_io/core/kernels/cpu_check.cc:128] Your CPU supports instructions that this TensorFlow IO binary was not compiled to use: AVX2 FMA\n",
      "2022-08-07 01:29:07.195506: I tensorflow/stream_executor/cuda/cuda_blas.cc:1786] TensorFloat-32 will be used for the matrix multiplication. This will only be logged once.\n"
     ]
    }
   ],
   "source": [
    "spectrogram, label = preprocess(test_path)"
   ]
  },
  {
   "cell_type": "code",
   "execution_count": 19,
   "id": "44e81b26-d580-474c-97b5-53b18a015747",
   "metadata": {},
   "outputs": [
    {
     "data": {
      "image/png": "[encoded data removed]",
      "text/plain": [
       "<Figure size 2160x1440 with 1 Axes>"
      ]
     },
     "metadata": {
      "needs_background": "light"
     },
     "output_type": "display_data"
    }
   ],
   "source": [
    "plt.figure(figsize=(30,20))\n",
    "plt.imshow(tf.transpose(spectrogram)[0])\n",
    "plt.show()"
   ]
  },
  {
   "cell_type": "markdown",
   "id": "6feec6bb-37e7-45d7-910d-eb24c05d70ef",
   "metadata": {},
   "source": [
    "### Look at lengths of our spectrograms\n",
    "#### We will use this to adjust zero paddding"
   ]
  },
  {
   "cell_type": "code",
   "execution_count": 20,
   "id": "9411c9fc-337b-4f8b-b82d-d80f2ffa9ee3",
   "metadata": {
    "tags": []
   },
   "outputs": [],
   "source": [
    "look_at_lengths = False\n",
    "if look_at_lengths == True:\n",
    "    files = glob.glob('/home/jake/project/split/*/*/*')\n",
    "    lengths = []\n",
    "    for file in files:\n",
    "        tensor_wave = load_wav_16k_mono(os.path.join('data', 'Parsed_Capuchinbird_Clips', file))\n",
    "        lengths.append(len(tensor_wave))\n",
    "    print(tf.math.reduce_mean(lengths))\n",
    "    print(tf.math.reduce_min(lengths))\n",
    "    print(tf.math.reduce_max(lengths))"
   ]
  },
  {
   "cell_type": "markdown",
   "id": "0ef59fe3-620c-497b-87c2-74a08d446957",
   "metadata": {},
   "source": [
    "### Process Dataset"
   ]
  },
  {
   "cell_type": "code",
   "execution_count": 21,
   "id": "7b87b839-553f-40ed-bd8a-3ca08d7cc2f0",
   "metadata": {},
   "outputs": [],
   "source": [
    "def configure_ds(dataset, val=False):\n",
    "    dataset = dataset.map(preprocess)\n",
    "    if val==False:\n",
    "        dataset = dataset.shuffle(buffer_size=1000)\n",
    "        dataset = dataset.prefetch(8)\n",
    "    dataset = dataset.batch(32)\n",
    "    return dataset"
   ]
  },
  {
   "cell_type": "code",
   "execution_count": 22,
   "id": "de8de6ca-8156-4e04-8c5c-7b0e7637ab69",
   "metadata": {
    "tags": []
   },
   "outputs": [
    {
     "name": "stdout",
     "output_type": "stream",
     "text": [
      "WARNING:tensorflow:Using a while_loop for converting IO>AudioResample\n",
      "WARNING:tensorflow:Using a while_loop for converting IO>AudioResample\n",
      "WARNING:tensorflow:Using a while_loop for converting IO>AudioResample\n"
     ]
    }
   ],
   "source": [
    "train_ds = configure_ds(train_ds)\n",
    "test_ds = configure_ds(test_ds)\n",
    "val_ds = configure_ds(val_ds, val=True)"
   ]
  },
  {
   "cell_type": "markdown",
   "id": "61f92aeb-6a1f-4137-914e-caf8bfce1561",
   "metadata": {},
   "source": [
    "#### Look at shape of data in batch"
   ]
  },
  {
   "cell_type": "code",
   "execution_count": 23,
   "id": "c0d28100-c5c2-4cef-acfb-d89cd3b8668a",
   "metadata": {},
   "outputs": [],
   "source": [
    "samples, labels = train_ds.as_numpy_iterator().next()"
   ]
  },
  {
   "cell_type": "code",
   "execution_count": 24,
   "id": "a4c44833-3f82-4713-a174-e2711e7df25a",
   "metadata": {},
   "outputs": [
    {
     "data": {
      "text/plain": [
       "(32, 309, 128, 1)"
      ]
     },
     "execution_count": 24,
     "metadata": {},
     "output_type": "execute_result"
    }
   ],
   "source": [
    "samples.shape"
   ]
  },
  {
   "cell_type": "code",
   "execution_count": 25,
   "id": "4ead1251-e22a-4f7e-94ab-ca776aee734a",
   "metadata": {},
   "outputs": [
    {
     "data": {
      "text/plain": [
       "(32,)"
      ]
     },
     "execution_count": 25,
     "metadata": {},
     "output_type": "execute_result"
    }
   ],
   "source": [
    "labels.shape"
   ]
  },
  {
   "cell_type": "code",
   "execution_count": 26,
   "id": "810896c1-f8ca-417d-a09b-7ac7934762a3",
   "metadata": {},
   "outputs": [],
   "source": [
    "specLen = samples.shape[1]"
   ]
  },
  {
   "cell_type": "markdown",
   "id": "80d26a25-d545-4c86-8ebb-f7a38375e755",
   "metadata": {},
   "source": [
    "### Build Model"
   ]
  },
  {
   "cell_type": "code",
   "execution_count": 27,
   "id": "05f2c2d3-034c-4b8f-9ff4-2a4e167e8690",
   "metadata": {},
   "outputs": [],
   "source": [
    "from tensorflow import keras\n",
    "from tensorflow.keras import layers\n",
    "import tensorflow_addons as tfa\n",
    "import tensorflow as tf\n",
    "from tensorflow.keras.layers import Layer"
   ]
  },
  {
   "cell_type": "markdown",
   "id": "cf7f7b83-66f5-4e8f-9ca6-c435a5a12fba",
   "metadata": {},
   "source": [
    "#### set hyperparameters"
   ]
  },
  {
   "cell_type": "code",
   "execution_count": 28,
   "id": "77a11acb-36a8-45b2-bdf9-69ca50b8e90a",
   "metadata": {},
   "outputs": [],
   "source": [
    "learning_rate = 0.001\n",
    "weight_decay = 0.0001\n",
    "num_epochs = 50\n",
    "image_size = 144  # We'll resize input images to this size\n",
    "patch_size = 8  # Size of the patches to be extract from the input images\n",
    "num_patches = (image_size // patch_size) ** 2\n",
    "projection_dim = 64\n",
    "num_heads = 8\n",
    "transformer_units = [\n",
    "    projection_dim * 2,\n",
    "    projection_dim,\n",
    "]  # Size of the transformer layers\n",
    "transformer_layers = 8\n",
    "mlp_head_units = [2048, 1024]  # Size of the dense layers of the final classifier\n"
   ]
  },
  {
   "cell_type": "code",
   "execution_count": 29,
   "id": "59a28a36-9906-4df1-a546-a0f3fad26d02",
   "metadata": {},
   "outputs": [],
   "source": [
    "class SpecAugment(Layer):\n",
    "    \"\"\"\n",
    "    Implementation of a layer that contains the SpecAugment Transformation\n",
    "    \"\"\"\n",
    "\n",
    "    def __init__(self,\n",
    "                 freq_mask_param: int,\n",
    "                 time_mask_param: int,\n",
    "                 n_freq_mask: int = 1,\n",
    "                 n_time_mask: int = 1,\n",
    "                 mask_value: float = 0.\n",
    "                 ):\n",
    "        \"\"\"\n",
    "        :param freq_mask_param: Frequency Mask Parameter (F in the paper)\n",
    "        :param time_mask_param: Time Mask Parameter (T in the paper)\n",
    "        :param n_freq_mask: Number of frequency masks to apply (mF in the paper). By default is 1.\n",
    "        :param n_time_mask: Number of time masks to apply (mT in the paper). By default is 1.\n",
    "        :param mask_value: Imputation value. By default is zero.\n",
    "        \"\"\"\n",
    "        super(SpecAugment, self).__init__(name=\"SpecAugment\")\n",
    "        self.freq_mask_param = freq_mask_param\n",
    "        self.time_mask_param = time_mask_param\n",
    "        self.n_freq_mask = n_freq_mask\n",
    "        self.n_time_mask = n_time_mask\n",
    "        self.mask_value = tf.cast(mask_value, tf.float32)\n",
    "\n",
    "    def _frequency_mask_single(self, input_mel_spectrogram: tf.Tensor) -> tf.Tensor:\n",
    "        \"\"\"\n",
    "        :param input_mel_spectrogram:\n",
    "        :return:\n",
    "        \"\"\"\n",
    "        n_mels = tf.cast(tf.shape(input_mel_spectrogram)[1], tf.float32)\n",
    "        freq_indices = tf.reshape(tf.cast(tf.range(n_mels), tf.int32), (1, -1, 1))\n",
    "\n",
    "        # We use the paper's notation\n",
    "        f = tf.cast(tf.random.uniform(shape=(), maxval=self.freq_mask_param), tf.int32)\n",
    "        f0 = tf.cast(tf.random.uniform(shape=(), maxval=n_mels - tf.cast(f, tf.float32)), tf.int32)\n",
    "\n",
    "        condition = tf.logical_and(freq_indices >= f0, freq_indices <= f0 + f)\n",
    "        return tf.cast(condition, tf.float32)\n",
    "\n",
    "    def _frequency_masks(self, input_mel_spectrogram: tf.Tensor) -> tf.Tensor:\n",
    "        \"\"\"\n",
    "        :param input_mel_spectrogram:\n",
    "        :return:\n",
    "        \"\"\"\n",
    "        mel_repeated = tf.repeat(tf.expand_dims(input_mel_spectrogram, 0), self.n_freq_mask, axis=0)\n",
    "        masks = tf.cast(tf.map_fn(elems=mel_repeated, fn=self._frequency_mask_single), tf.bool)\n",
    "        mask = tf.math.reduce_any(masks, 0)\n",
    "        return tf.where(mask, self.mask_value, input_mel_spectrogram)\n",
    "\n",
    "    def _time_mask_single(self, input_mel_spectrogram: tf.Tensor) -> tf.Tensor:\n",
    "        \"\"\"\n",
    "        :param input_mel_spectrogram:\n",
    "        :return:\n",
    "        \"\"\"\n",
    "        n_steps = tf.cast(tf.shape(input_mel_spectrogram)[0], tf.float32)\n",
    "        time_indices = tf.reshape(tf.cast(tf.range(n_steps), tf.int32), (-1, 1, 1))\n",
    "\n",
    "        # We use the paper's notation\n",
    "        t = tf.cast(tf.random.uniform(shape=(), maxval=self.time_mask_param), tf.int32)\n",
    "        t0 = tf.cast(tf.random.uniform(shape=(), maxval=n_steps - tf.cast(t, tf.float32)), tf.int32)\n",
    "\n",
    "        condition = tf.logical_and(time_indices >= t0, time_indices <= t0 + t)\n",
    "        return tf.cast(condition, tf.float32)\n",
    "\n",
    "    def _time_masks(self, input_mel_spectrogram: tf.Tensor) -> tf.Tensor:\n",
    "        \"\"\"\n",
    "        :param input_mel_spectrogram:\n",
    "        :return:\n",
    "        \"\"\"\n",
    "        mel_repeated = tf.repeat(tf.expand_dims(input_mel_spectrogram, 0), self.n_time_mask, axis=0)\n",
    "        masks = tf.cast(tf.map_fn(elems=mel_repeated, fn=self._time_mask_single), tf.bool)\n",
    "        mask = tf.math.reduce_any(masks, 0)\n",
    "        return tf.where(mask, self.mask_value, input_mel_spectrogram)\n",
    "\n",
    "    def _apply_spec_augment(self, input_mel_spectrogram: tf.Tensor) -> tf.Tensor:\n",
    "        \"\"\"\n",
    "        :param input_mel_spectrogram:\n",
    "        :return:\n",
    "        \"\"\"\n",
    "        if self.n_freq_mask >= 1:\n",
    "            input_mel_spectrogram = self._frequency_masks(input_mel_spectrogram)\n",
    "        if self.n_time_mask >= 1:\n",
    "            input_mel_spectrogram = self._time_masks(input_mel_spectrogram)\n",
    "        return input_mel_spectrogram\n",
    "\n",
    "    def call(self, inputs: tf.Tensor, training=None, **kwargs):\n",
    "        \"\"\"\n",
    "        Applies the SpecAugment operation to the input Mel Spectrogram\n",
    "        :param inputs: The input mel spectrogram\n",
    "        :param training: If True then it will be applied\n",
    "        :return: A mel spectrogram after the time and frequency are applied\n",
    "        \"\"\"\n",
    "        if training:\n",
    "            inputs_masked = tf.map_fn(elems=inputs, fn=self._apply_spec_augment)\n",
    "            return inputs_masked\n",
    "        return inputs\n",
    "\n",
    "    def get_config(self):\n",
    "        \"\"\"\n",
    "        Generates a description of the parameters selected. It uses the notation in the paper\n",
    "        :return:\n",
    "        \"\"\"\n",
    "        config = {\n",
    "            \"freq_mask_param\": self.freq_mask_param,\n",
    "            \"time_mask_param\": self.time_mask_param,\n",
    "            \"n_freq_mask\": self.n_freq_mask,\n",
    "            \"n_time_mask\": self.n_time_mask,\n",
    "            \"mask_value\": self.mask_value.numpy(),\n",
    "        }\n",
    "        return config"
   ]
  },
  {
   "cell_type": "code",
   "execution_count": 30,
   "id": "0841f36b-64a3-40ec-9958-2a0608f23b01",
   "metadata": {},
   "outputs": [],
   "source": [
    "def mlp(x, hidden_units, dropout_rate):\n",
    "    for units in hidden_units:\n",
    "        x = layers.Dense(units, activation=tf.nn.gelu)(x)\n",
    "        x = layers.Dropout(dropout_rate)(x)\n",
    "    return x\n"
   ]
  },
  {
   "cell_type": "code",
   "execution_count": 31,
   "id": "5cadf3c4-166f-4113-bce4-6bdf993fc3e0",
   "metadata": {},
   "outputs": [],
   "source": [
    "class Patches(layers.Layer):\n",
    "    def __init__(self, patch_size):\n",
    "        super(Patches, self).__init__()\n",
    "        self.patch_size = patch_size\n",
    "\n",
    "    def call(self, images):\n",
    "        batch_size = tf.shape(images)[0]\n",
    "        patches = tf.image.extract_patches(\n",
    "            images=images,\n",
    "            sizes=[1, self.patch_size, self.patch_size, 1],\n",
    "            strides=[1, self.patch_size, self.patch_size, 1],\n",
    "            rates=[1, 1, 1, 1],\n",
    "            padding=\"VALID\",\n",
    "        )\n",
    "        patch_dims = patches.shape[-1]\n",
    "        patches = tf.reshape(patches, [batch_size, -1, patch_dims])\n",
    "        return patches\n"
   ]
  },
  {
   "cell_type": "code",
   "execution_count": 32,
   "id": "578e70a7-e3ae-4930-a4c5-81caac570dcb",
   "metadata": {},
   "outputs": [],
   "source": [
    "data_augmentation = keras.Sequential(\n",
    "    [\n",
    "        layers.Normalization(),\n",
    "        layers.Resizing(image_size, image_size)\n",
    "    ],\n",
    "    name=\"data_augmentation\",\n",
    ")"
   ]
  },
  {
   "cell_type": "code",
   "execution_count": 33,
   "id": "e3c0ce17-f30d-4021-9482-ee63bb4906a9",
   "metadata": {},
   "outputs": [],
   "source": [
    "spec_augment = SpecAugment(freq_mask_param=5,\n",
    "                           time_mask_param=10,\n",
    "                           n_freq_mask=5,\n",
    "                           n_time_mask=3,\n",
    "                           mask_value=-100) "
   ]
  },
  {
   "cell_type": "code",
   "execution_count": 34,
   "id": "8c066aab-4370-4c78-85d3-498f6fffe5d9",
   "metadata": {},
   "outputs": [],
   "source": [
    "class PatchEncoder(layers.Layer):\n",
    "    def __init__(self, num_patches, projection_dim):\n",
    "        super(PatchEncoder, self).__init__()\n",
    "        self.num_patches = num_patches\n",
    "        self.projection = layers.Dense(units=projection_dim)\n",
    "        self.position_embedding = layers.Embedding(\n",
    "            input_dim=num_patches, output_dim=projection_dim\n",
    "        )\n",
    "\n",
    "    def call(self, patch):\n",
    "        positions = tf.range(start=0, limit=self.num_patches, delta=1)\n",
    "        encoded = self.projection(patch) + self.position_embedding(positions)\n",
    "        return encoded\n"
   ]
  },
  {
   "cell_type": "code",
   "execution_count": 35,
   "id": "c6b0aed7-8be4-4389-95a2-c1cbd2ddf317",
   "metadata": {},
   "outputs": [],
   "source": [
    "def create_vit_classifier():\n",
    "    inputs = layers.Input(shape=(311, 128, 1))\n",
    "    # Augment data.\n",
    "    augmented = data_augmentation(inputs)\n",
    "    # specAug\n",
    "    augmented = spec_augment(augmented)\n",
    "    # Create patches.\n",
    "    patches = Patches(patch_size)(augmented)\n",
    "    # Encode patches.\n",
    "    encoded_patches = PatchEncoder(num_patches, projection_dim)(patches)\n",
    "\n",
    "    # Create multiple layers of the Transformer block.\n",
    "    for _ in range(transformer_layers):\n",
    "        # Layer normalization 1.\n",
    "        x1 = layers.LayerNormalization(epsilon=1e-6)(encoded_patches)\n",
    "        # Create a multi-head attention layer.\n",
    "        attention_output = layers.MultiHeadAttention(\n",
    "            num_heads=num_heads, key_dim=projection_dim, dropout=0.1\n",
    "        )(x1, x1)\n",
    "        # Skip connection 1.\n",
    "        x2 = layers.Add()([attention_output, encoded_patches])\n",
    "        # Layer normalization 2.\n",
    "        x3 = layers.LayerNormalization(epsilon=1e-6)(x2)\n",
    "        # MLP.\n",
    "        x3 = mlp(x3, hidden_units=transformer_units, dropout_rate=0.1)\n",
    "        # Skip connection 2.\n",
    "        encoded_patches = layers.Add()([x3, x2])\n",
    "\n",
    "    # Create a [batch_size, projection_dim] tensor.\n",
    "    representation = layers.LayerNormalization(epsilon=1e-6)(encoded_patches)\n",
    "    representation = layers.Flatten()(representation)\n",
    "    representation = layers.Dropout(0.5)(representation)\n",
    "    # Add MLP.\n",
    "    features = mlp(representation, hidden_units=mlp_head_units, dropout_rate=0.5)\n",
    "    # Classify outputs.\n",
    "    logits = layers.Dense(6)(features)\n",
    "    # Create the Keras model.\n",
    "    model = keras.Model(inputs=inputs, outputs=logits)\n",
    "    return model\n"
   ]
  },
  {
   "cell_type": "code",
   "execution_count": 36,
   "id": "3690d0be-524d-4166-a53f-92d9ce4b8b57",
   "metadata": {},
   "outputs": [
    {
     "name": "stdout",
     "output_type": "stream",
     "text": [
      "Epoch 1/50\n",
      "486/486 [==============================] - 86s 165ms/step - loss: 2.4235 - accuracy: 0.2190 - top-2-accuracy: 0.4065 - val_loss: 1.3554 - val_accuracy: 0.4773 - val_top-2-accuracy: 0.7176\n",
      "Epoch 2/50\n",
      "486/486 [==============================] - 80s 162ms/step - loss: 1.4776 - accuracy: 0.4103 - top-2-accuracy: 0.6276 - val_loss: 1.0753 - val_accuracy: 0.6015 - val_top-2-accuracy: 0.7895\n",
      "Epoch 3/50\n",
      "486/486 [==============================] - 79s 160ms/step - loss: 1.3235 - accuracy: 0.4853 - top-2-accuracy: 0.7006 - val_loss: 1.1826 - val_accuracy: 0.5862 - val_top-2-accuracy: 0.7600\n",
      "Epoch 4/50\n",
      "486/486 [==============================] - 80s 162ms/step - loss: 1.2255 - accuracy: 0.5352 - top-2-accuracy: 0.7401 - val_loss: 0.9917 - val_accuracy: 0.6775 - val_top-2-accuracy: 0.8519\n",
      "Epoch 5/50\n",
      "486/486 [==============================] - 80s 162ms/step - loss: 1.1466 - accuracy: 0.5758 - top-2-accuracy: 0.7705 - val_loss: 0.8562 - val_accuracy: 0.7023 - val_top-2-accuracy: 0.8624\n",
      "Epoch 6/50\n",
      "486/486 [==============================] - 79s 161ms/step - loss: 1.1067 - accuracy: 0.5997 - top-2-accuracy: 0.7867 - val_loss: 0.9642 - val_accuracy: 0.6756 - val_top-2-accuracy: 0.8491\n",
      "Epoch 7/50\n",
      "486/486 [==============================] - 80s 162ms/step - loss: 1.0471 - accuracy: 0.6262 - top-2-accuracy: 0.8033 - val_loss: 0.7175 - val_accuracy: 0.7613 - val_top-2-accuracy: 0.9039\n",
      "Epoch 8/50\n",
      "486/486 [==============================] - 80s 163ms/step - loss: 1.0090 - accuracy: 0.6347 - top-2-accuracy: 0.8148 - val_loss: 0.6898 - val_accuracy: 0.7711 - val_top-2-accuracy: 0.9067\n",
      "Epoch 9/50\n",
      "486/486 [==============================] - 79s 161ms/step - loss: 0.9604 - accuracy: 0.6626 - top-2-accuracy: 0.8247 - val_loss: 0.8107 - val_accuracy: 0.7519 - val_top-2-accuracy: 0.9006\n",
      "Epoch 10/50\n",
      "486/486 [==============================] - 79s 161ms/step - loss: 0.9286 - accuracy: 0.6685 - top-2-accuracy: 0.8316 - val_loss: 0.7262 - val_accuracy: 0.7613 - val_top-2-accuracy: 0.9078\n",
      "Epoch 11/50\n",
      "486/486 [==============================] - 80s 162ms/step - loss: 0.9048 - accuracy: 0.6819 - top-2-accuracy: 0.8372 - val_loss: 0.6660 - val_accuracy: 0.7797 - val_top-2-accuracy: 0.9167\n",
      "Epoch 12/50\n",
      "486/486 [==============================] - 80s 162ms/step - loss: 0.8819 - accuracy: 0.6910 - top-2-accuracy: 0.8436 - val_loss: 0.6567 - val_accuracy: 0.7911 - val_top-2-accuracy: 0.9212\n",
      "Epoch 13/50\n",
      "486/486 [==============================] - 80s 162ms/step - loss: 0.8437 - accuracy: 0.7005 - top-2-accuracy: 0.8532 - val_loss: 0.5945 - val_accuracy: 0.8037 - val_top-2-accuracy: 0.9243\n",
      "Epoch 14/50\n",
      "486/486 [==============================] - 79s 161ms/step - loss: 0.8340 - accuracy: 0.7094 - top-2-accuracy: 0.8555 - val_loss: 0.6693 - val_accuracy: 0.7903 - val_top-2-accuracy: 0.9184\n",
      "Epoch 15/50\n",
      "486/486 [==============================] - 80s 162ms/step - loss: 0.8111 - accuracy: 0.7193 - top-2-accuracy: 0.8618 - val_loss: 0.5960 - val_accuracy: 0.8070 - val_top-2-accuracy: 0.9321\n",
      "Epoch 16/50\n",
      "486/486 [==============================] - 79s 161ms/step - loss: 0.8013 - accuracy: 0.7168 - top-2-accuracy: 0.8663 - val_loss: 0.7530 - val_accuracy: 0.7538 - val_top-2-accuracy: 0.9112\n",
      "Epoch 17/50\n",
      "486/486 [==============================] - 79s 161ms/step - loss: 0.7838 - accuracy: 0.7271 - top-2-accuracy: 0.8663 - val_loss: 0.5930 - val_accuracy: 0.7987 - val_top-2-accuracy: 0.9259\n",
      "Epoch 18/50\n",
      "486/486 [==============================] - 80s 162ms/step - loss: 0.7587 - accuracy: 0.7328 - top-2-accuracy: 0.8709 - val_loss: 0.6331 - val_accuracy: 0.8134 - val_top-2-accuracy: 0.9273\n",
      "Epoch 19/50\n",
      "486/486 [==============================] - 80s 162ms/step - loss: 0.7450 - accuracy: 0.7365 - top-2-accuracy: 0.8703 - val_loss: 0.5564 - val_accuracy: 0.8223 - val_top-2-accuracy: 0.9273\n",
      "Epoch 20/50\n",
      "486/486 [==============================] - 79s 161ms/step - loss: 0.7285 - accuracy: 0.7446 - top-2-accuracy: 0.8775 - val_loss: 0.6301 - val_accuracy: 0.8081 - val_top-2-accuracy: 0.9309\n",
      "Epoch 21/50\n",
      "486/486 [==============================] - 79s 161ms/step - loss: 0.7091 - accuracy: 0.7496 - top-2-accuracy: 0.8815 - val_loss: 0.6491 - val_accuracy: 0.8207 - val_top-2-accuracy: 0.9282\n",
      "Epoch 22/50\n",
      "486/486 [==============================] - 80s 162ms/step - loss: 0.7037 - accuracy: 0.7522 - top-2-accuracy: 0.8821 - val_loss: 0.5568 - val_accuracy: 0.8363 - val_top-2-accuracy: 0.9368\n",
      "Epoch 23/50\n",
      "486/486 [==============================] - 79s 161ms/step - loss: 0.6922 - accuracy: 0.7579 - top-2-accuracy: 0.8856 - val_loss: 0.5822 - val_accuracy: 0.8301 - val_top-2-accuracy: 0.9351\n",
      "Epoch 24/50\n",
      "486/486 [==============================] - 79s 161ms/step - loss: 0.6804 - accuracy: 0.7606 - top-2-accuracy: 0.8901 - val_loss: 0.6168 - val_accuracy: 0.8232 - val_top-2-accuracy: 0.9351\n",
      "Epoch 25/50\n",
      "486/486 [==============================] - 80s 162ms/step - loss: 0.6579 - accuracy: 0.7685 - top-2-accuracy: 0.8949 - val_loss: 0.5646 - val_accuracy: 0.8376 - val_top-2-accuracy: 0.9360\n",
      "Epoch 26/50\n",
      "486/486 [==============================] - 79s 161ms/step - loss: 0.6490 - accuracy: 0.7718 - top-2-accuracy: 0.8941 - val_loss: 0.5577 - val_accuracy: 0.8368 - val_top-2-accuracy: 0.9334\n",
      "Epoch 27/50\n",
      "486/486 [==============================] - 79s 161ms/step - loss: 0.6492 - accuracy: 0.7717 - top-2-accuracy: 0.8958 - val_loss: 0.5497 - val_accuracy: 0.8376 - val_top-2-accuracy: 0.9307\n",
      "Epoch 28/50\n",
      "486/486 [==============================] - 79s 161ms/step - loss: 0.6398 - accuracy: 0.7720 - top-2-accuracy: 0.8992 - val_loss: 0.5469 - val_accuracy: 0.8318 - val_top-2-accuracy: 0.9332\n",
      "Epoch 29/50\n",
      "486/486 [==============================] - 79s 161ms/step - loss: 0.6198 - accuracy: 0.7819 - top-2-accuracy: 0.8992 - val_loss: 0.6339 - val_accuracy: 0.8371 - val_top-2-accuracy: 0.9357\n",
      "Epoch 30/50\n",
      "486/486 [==============================] - 79s 161ms/step - loss: 0.6169 - accuracy: 0.7800 - top-2-accuracy: 0.9038 - val_loss: 0.6091 - val_accuracy: 0.8326 - val_top-2-accuracy: 0.9365\n",
      "Epoch 31/50\n",
      "486/486 [==============================] - 80s 162ms/step - loss: 0.6189 - accuracy: 0.7784 - top-2-accuracy: 0.9003 - val_loss: 0.5453 - val_accuracy: 0.8427 - val_top-2-accuracy: 0.9376\n",
      "Epoch 32/50\n",
      "486/486 [==============================] - 80s 162ms/step - loss: 0.5941 - accuracy: 0.7927 - top-2-accuracy: 0.9097 - val_loss: 0.5644 - val_accuracy: 0.8446 - val_top-2-accuracy: 0.9396\n",
      "Epoch 33/50\n",
      "486/486 [==============================] - 80s 162ms/step - loss: 0.5981 - accuracy: 0.7845 - top-2-accuracy: 0.9043 - val_loss: 0.5096 - val_accuracy: 0.8541 - val_top-2-accuracy: 0.9418\n",
      "Epoch 34/50\n",
      "486/486 [==============================] - 79s 161ms/step - loss: 0.5682 - accuracy: 0.8007 - top-2-accuracy: 0.9091 - val_loss: 0.5674 - val_accuracy: 0.8376 - val_top-2-accuracy: 0.9376\n",
      "Epoch 35/50\n",
      "486/486 [==============================] - 79s 161ms/step - loss: 0.5807 - accuracy: 0.7942 - top-2-accuracy: 0.9112 - val_loss: 0.5818 - val_accuracy: 0.8349 - val_top-2-accuracy: 0.9379\n",
      "Epoch 36/50\n",
      "486/486 [==============================] - 79s 160ms/step - loss: 0.5698 - accuracy: 0.8027 - top-2-accuracy: 0.9117 - val_loss: 0.5654 - val_accuracy: 0.8393 - val_top-2-accuracy: 0.9329\n",
      "Epoch 37/50\n",
      "486/486 [==============================] - 79s 161ms/step - loss: 0.5556 - accuracy: 0.8019 - top-2-accuracy: 0.9152 - val_loss: 0.5752 - val_accuracy: 0.8532 - val_top-2-accuracy: 0.9432\n",
      "Epoch 38/50\n",
      "486/486 [==============================] - 79s 161ms/step - loss: 0.5462 - accuracy: 0.8036 - top-2-accuracy: 0.9157 - val_loss: 0.4918 - val_accuracy: 0.8516 - val_top-2-accuracy: 0.9376\n",
      "Epoch 39/50\n",
      "486/486 [==============================] - 79s 161ms/step - loss: 0.5438 - accuracy: 0.8073 - top-2-accuracy: 0.9166 - val_loss: 0.6597 - val_accuracy: 0.8427 - val_top-2-accuracy: 0.9382\n",
      "Epoch 40/50\n",
      "486/486 [==============================] - 79s 160ms/step - loss: 0.5319 - accuracy: 0.8101 - top-2-accuracy: 0.9198 - val_loss: 0.5445 - val_accuracy: 0.8441 - val_top-2-accuracy: 0.9346\n",
      "Epoch 41/50\n",
      "486/486 [==============================] - 79s 161ms/step - loss: 0.5305 - accuracy: 0.8128 - top-2-accuracy: 0.9215 - val_loss: 0.6463 - val_accuracy: 0.8318 - val_top-2-accuracy: 0.9298\n",
      "Epoch 42/50\n",
      "486/486 [==============================] - 79s 161ms/step - loss: 0.5199 - accuracy: 0.8130 - top-2-accuracy: 0.9224 - val_loss: 0.5411 - val_accuracy: 0.8452 - val_top-2-accuracy: 0.9401\n",
      "Epoch 43/50\n",
      "486/486 [==============================] - 79s 161ms/step - loss: 0.5334 - accuracy: 0.8133 - top-2-accuracy: 0.9201 - val_loss: 0.5580 - val_accuracy: 0.8532 - val_top-2-accuracy: 0.9432\n",
      "Epoch 44/50\n",
      "486/486 [==============================] - 79s 161ms/step - loss: 0.5132 - accuracy: 0.8156 - top-2-accuracy: 0.9240 - val_loss: 0.5346 - val_accuracy: 0.8474 - val_top-2-accuracy: 0.9421\n",
      "Epoch 45/50\n",
      "486/486 [==============================] - 79s 161ms/step - loss: 0.4925 - accuracy: 0.8245 - top-2-accuracy: 0.9269 - val_loss: 0.5474 - val_accuracy: 0.8491 - val_top-2-accuracy: 0.9346\n",
      "Epoch 46/50\n",
      "486/486 [==============================] - 79s 161ms/step - loss: 0.5051 - accuracy: 0.8189 - top-2-accuracy: 0.9269 - val_loss: 0.5611 - val_accuracy: 0.8535 - val_top-2-accuracy: 0.9421\n",
      "Epoch 47/50\n",
      "486/486 [==============================] - 79s 161ms/step - loss: 0.4946 - accuracy: 0.8266 - top-2-accuracy: 0.9278 - val_loss: 0.5892 - val_accuracy: 0.8415 - val_top-2-accuracy: 0.9376\n",
      "Epoch 48/50\n",
      "486/486 [==============================] - 79s 161ms/step - loss: 0.4926 - accuracy: 0.8258 - top-2-accuracy: 0.9289 - val_loss: 0.5207 - val_accuracy: 0.8516 - val_top-2-accuracy: 0.9360\n",
      "Epoch 49/50\n",
      "486/486 [==============================] - 79s 160ms/step - loss: 0.4879 - accuracy: 0.8274 - top-2-accuracy: 0.9302 - val_loss: 0.5964 - val_accuracy: 0.8441 - val_top-2-accuracy: 0.9357\n",
      "Epoch 50/50\n",
      "486/486 [==============================] - 79s 161ms/step - loss: 0.4809 - accuracy: 0.8288 - top-2-accuracy: 0.9308 - val_loss: 0.5849 - val_accuracy: 0.8379 - val_top-2-accuracy: 0.9323\n",
      "58/58 [==============================] - 3s 36ms/step - loss: 0.5045 - accuracy: 0.8426 - top-2-accuracy: 0.9235\n",
      "Test accuracy: 84.26%\n",
      "Test top 2 accuracy: 92.35%\n"
     ]
    }
   ],
   "source": [
    "def run_experiment(model):\n",
    "    optimizer = tfa.optimizers.AdamW(\n",
    "        learning_rate=learning_rate, weight_decay=weight_decay\n",
    "    )\n",
    "\n",
    "    model.compile(\n",
    "        optimizer=optimizer,\n",
    "        loss=keras.losses.SparseCategoricalCrossentropy(from_logits=True),\n",
    "        metrics=[\n",
    "            keras.metrics.SparseCategoricalAccuracy(name=\"accuracy\"),\n",
    "            keras.metrics.SparseTopKCategoricalAccuracy(2, name=\"top-2-accuracy\"),\n",
    "            #keras.metrics.AUC(name='auc'),\n",
    "            #tfa.metrics.F1Score(name='F1',num_classes=6)\n",
    "        ],\n",
    "    )\n",
    "\n",
    "    cwd = os.getcwd()\n",
    "    model_dir = os.path.join(cwd,'models')\n",
    "    this_model_dir = os.path.join(model_dir,f'8heads_newshapeT_specLen_{specLen}_aug_{aug}_mel_image_size_{image_size}_num_patches_{num_patches}_epochs_{num_epochs}')\n",
    "    if not os.path.exists(model_dir):\n",
    "        os.mkdir(model_dir)\n",
    "    if not os.path.exists(this_model_dir):\n",
    "        os.mkdir(this_model_dir)\n",
    "    checkpoint_filepath = os.path.join(this_model_dir,'cp.ckpt')\n",
    "    checkpoint_callback = keras.callbacks.ModelCheckpoint(\n",
    "        checkpoint_filepath,\n",
    "        monitor=\"val_accuracy\",\n",
    "        save_best_only=True,\n",
    "        save_weights_only=True,\n",
    "    )\n",
    "\n",
    "    history = model.fit(\n",
    "        train_ds,\n",
    "        validation_data=test_ds,\n",
    "        epochs=num_epochs,\n",
    "        callbacks=[checkpoint_callback],\n",
    "    )\n",
    "\n",
    "    model.load_weights(checkpoint_filepath)\n",
    "    _, accuracy, top_2_accuracy = model.evaluate(val_ds)\n",
    "    print(f\"Test accuracy: {round(accuracy * 100, 2)}%\")\n",
    "    print(f\"Test top 2 accuracy: {round(top_2_accuracy * 100, 2)}%\")\n",
    "\n",
    "    return history\n",
    "\n",
    "\n",
    "vit_classifier = create_vit_classifier()\n",
    "history = run_experiment(vit_classifier)\n"
   ]
  },
  {
   "cell_type": "code",
   "execution_count": 37,
   "id": "9d5c08c5-328b-4555-b7d1-6ac3b71f68f8",
   "metadata": {},
   "outputs": [
    {
     "data": {
      "image/png": "[encoded data removed]",
      "text/plain": [
       "<Figure size 432x288 with 1 Axes>"
      ]
     },
     "metadata": {
      "needs_background": "light"
     },
     "output_type": "display_data"
    }
   ],
   "source": [
    "plt.title('Loss')\n",
    "plt.plot(history.history['loss'], 'r')\n",
    "plt.plot(history.history['val_loss'], 'b')\n",
    "plt.show()"
   ]
  },
  {
   "cell_type": "code",
   "execution_count": 38,
   "id": "f2f6a56b-3012-4f0d-b5f4-25a05bc33e9a",
   "metadata": {},
   "outputs": [
    {
     "data": {
      "image/png": "[encoded data removed]",
      "text/plain": [
       "<Figure size 432x288 with 1 Axes>"
      ]
     },
     "metadata": {
      "needs_background": "light"
     },
     "output_type": "display_data"
    }
   ],
   "source": [
    "plt.title('Accuracy')\n",
    "plt.plot(history.history['accuracy'], 'r')\n",
    "plt.plot(history.history['val_accuracy'], 'b')\n",
    "plt.show()"
   ]
  },
  {
   "cell_type": "markdown",
   "id": "30d291c5-70bd-4911-afef-b3020ccd7f94",
   "metadata": {},
   "source": [
    "### Output"
   ]
  },
  {
   "cell_type": "code",
   "execution_count": 39,
   "id": "1b5907d6-ac67-4f06-8117-353af7728738",
   "metadata": {},
   "outputs": [],
   "source": [
    "import pickle\n",
    "import csv"
   ]
  },
  {
   "cell_type": "code",
   "execution_count": 40,
   "id": "ae712b71-cd67-407f-a597-2f0de8647749",
   "metadata": {},
   "outputs": [],
   "source": [
    "cwd = os.getcwd()\n",
    "model_dir = os.path.join(cwd,'models')\n",
    "this_model_dir = os.path.join(model_dir,f'8heads_newshapeT_specLen_{specLen}_aug_specAug_image_size_{image_size}_num_patches_{num_patches}_epochs_{num_epochs}')\n",
    "if not os.path.exists(model_dir):\n",
    "    os.mkdir(model_dir)\n",
    "if not os.path.exists(this_model_dir):\n",
    "    os.mkdir(this_model_dir)\n",
    "with open(os.path.join(this_model_dir,'history.pkl'), 'wb') as f:\n",
    "    pickle.dump(history.history, f, protocol=pickle.HIGHEST_PROTOCOL)"
   ]
  },
  {
   "cell_type": "markdown",
   "id": "ae559f7e-27cc-4c92-a71b-436d8f4d44fd",
   "metadata": {},
   "source": [
    "## Results"
   ]
  },
  {
   "cell_type": "code",
   "execution_count": null,
   "id": "0fb1c4b1-dc8d-4c01-b791-7e38aa425972",
   "metadata": {},
   "outputs": [],
   "source": [
    "cwd = os.getcwd()\n",
    "model_dir = os.path.join(cwd,'models')\n",
    "this_model_dir = os.path.join(model_dir,f'cnn')\n",
    "checkpoint_filepath = os.path.join(this_model_dir,'cp.ckpt')\n",
    "model = create_vit_classifier()\n",
    "\n",
    "model.load_weights(checkpoint_filepath)\n",
    "model.compile(\n",
    "    optimizer='adam',\n",
    "    loss=keras.losses.SparseCategoricalCrossentropy(from_logits=False),\n",
    "    metrics=[\n",
    "        keras.metrics.SparseCategoricalAccuracy(name=\"accuracy\"),\n",
    "        keras.metrics.SparseTopKCategoricalAccuracy(2, name=\"top-2-accuracy\"),\n",
    "    ],\n",
    ")"
   ]
  },
  {
   "cell_type": "markdown",
   "id": "052e3369-c414-470e-b752-f4438b1c7fa8",
   "metadata": {},
   "source": [
    "### Confusion Matrix"
   ]
  },
  {
   "cell_type": "code",
   "execution_count": null,
   "id": "7b09afd2-9fd5-447d-bc61-e0ac15ae436b",
   "metadata": {},
   "outputs": [],
   "source": [
    "labels = np.concatenate([y for x, y in val_ds], axis=0)\n",
    "probs=model.predict(val_ds) \n",
    "predictions=np.argmax(probs,axis=1)\n",
    "tf.math.confusion_matrix(\n",
    "    labels,\n",
    "    predictions,\n",
    "    num_classes=None,\n",
    "    weights=None,\n",
    "    dtype=tf.dtypes.int32,\n",
    "    name=None\n",
    ")"
   ]
  },
  {
   "cell_type": "code",
   "execution_count": null,
   "id": "ac1ea146-369e-4df1-99d4-faea2f1568d3",
   "metadata": {},
   "outputs": [],
   "source": [
    "# Data handling\n",
    "import pandas as pd\n",
    "\n",
    "# Exploratory Data Analysis & Visualisation \n",
    "import matplotlib.pyplot as plt \n",
    "import seaborn as sns \n",
    "\n",
    "# Model improvement and Evaluation \n",
    "from sklearn import metrics \n",
    "from sklearn.metrics import confusion_matrix\n",
    "\n",
    "\n",
    "# Plotting confusion matrix\n",
    "matrix = pd.DataFrame((metrics.confusion_matrix(labels, predictions)), \n",
    "                      class_names, \n",
    "                      class_names)\n",
    "print(matrix)\n",
    "\n",
    "# Visualising confusion matrix\n",
    "plt.figure(figsize = (8,8),facecolor='white')\n",
    "heatmap = sns.heatmap(matrix, annot = True, annot_kws = {'size': 20}, fmt = 'd', cmap=sns.cm.rocket_r,cbar=False)#cmap = 'YlGnBu'\n",
    "heatmap.yaxis.set_ticklabels(heatmap.yaxis.get_ticklabels(), rotation = 0, ha = 'right', fontsize = 18, weight='bold')\n",
    "heatmap.xaxis.set_ticklabels(heatmap.xaxis.get_ticklabels(), rotation = 45, ha = 'right', fontsize = 18, weight='bold')\n",
    "\n",
    "plt.title('CNN Confusion Matrix\\n', fontsize = 18, color = 'darkblue')\n",
    "plt.ylabel('True label', fontsize = 14)\n",
    "plt.xlabel('Predicted label', fontsize = 14)\n",
    "plt.savefig(os.path.join(this_model_dir,'confusion_matrix.png'))\n",
    "plt.show()"
   ]
  },
  {
   "cell_type": "markdown",
   "id": "c3a0485e-d0cd-4621-99cd-35b187570d24",
   "metadata": {},
   "source": [
    "### Calculate mAP"
   ]
  },
  {
   "cell_type": "code",
   "execution_count": null,
   "id": "f8bc8aea-dd7a-4566-a559-888093012cf2",
   "metadata": {},
   "outputs": [],
   "source": [
    "from sklearn.metrics import average_precision_score\n",
    "ap_sum = 0\n",
    "for label in set(labels):\n",
    "    y_true = [1 if x == label else 0 for x in labels]\n",
    "    y_prob = probs[:,label]\n",
    "    print(y_true)\n",
    "    print(y_prob)\n",
    "    ap_sum += average_precision_score(y_true, y_prob)\n",
    "mAP = ap_sum/6\n",
    "print(mAP)"
   ]
  }
 ],
 "metadata": {
  "kernelspec": {
   "display_name": "tf_latest",
   "language": "python",
   "name": "tf_latest"
  },
  "language_info": {
   "codemirror_mode": {
    "name": "ipython",
    "version": 3
   },
   "file_extension": ".py",
   "mimetype": "text/x-python",
   "name": "python",
   "nbconvert_exporter": "python",
   "pygments_lexer": "ipython3",
   "version": "3.9.12"
  }
 },
 "nbformat": 4,
 "nbformat_minor": 5
}
